{
 "cells": [
  {
   "cell_type": "code",
   "execution_count": 2,
   "source": [
    "import pandas as pd \n",
    "import re \n",
    "factors = pd.read_excel(r'/Users/dylan/Github repo/DataBase/因子需求/因子表.xlsx')\n",
    "factor_signals = pd.read_excel(r'/Users/dylan/Github repo/DataBase/因子需求/factor_data.xlsx')\n"
   ],
   "outputs": [],
   "metadata": {}
  },
  {
   "cell_type": "code",
   "execution_count": 44,
   "source": [
    "s = pd.Series()\n",
    "for i in factor_signals['trade_date']:\n",
    "    factor_signal = factor_signals.set_index('trade_date').loc[i,:]\n",
    "    s = s.append(factor_signal[factor_signal == 1])\n"
   ],
   "outputs": [
    {
     "output_type": "stream",
     "name": "stderr",
     "text": [
      "<ipython-input-44-af8a90824be0>:1: DeprecationWarning: The default dtype for empty Series will be 'object' instead of 'float64' in a future version. Specify a dtype explicitly to silence this warning.\n",
      "  s = pd.Series()\n"
     ]
    },
    {
     "output_type": "execute_result",
     "data": {
      "text/plain": [
       "1.0    3129\n",
       "dtype: int64"
      ]
     },
     "metadata": {},
     "execution_count": 44
    }
   ],
   "metadata": {}
  },
  {
   "cell_type": "code",
   "execution_count": 58,
   "source": [
    "pd.Series(s.index).value_counts()"
   ],
   "outputs": [
    {
     "output_type": "execute_result",
     "data": {
      "text/plain": [
       "is_drop           387\n",
       "开盘价跌破过去5日均价       385\n",
       "开盘价-昨日BBI         376\n",
       "开盘价跌破过去15日均价      370\n",
       "开盘价跌破过去30日均价      359\n",
       "dropdays          206\n",
       "y                 180\n",
       "Y                 180\n",
       "前日收盘价均线空头排列       127\n",
       "开盘价跌破过去30日均价3%    123\n",
       "连跌天数大于2日           83\n",
       "麦克指标弱支撑            74\n",
       "x                  74\n",
       "开盘价跌破过去15日均价3%     73\n",
       "开盘价-昨日BBI大于3%      41\n",
       "连跌天数大于3日           35\n",
       "开盘价-昨日布林带下界        34\n",
       "开盘价跌破过去5日均价3%      22\n",
       "dtype: int64"
      ]
     },
     "metadata": {},
     "execution_count": 58
    }
   ],
   "metadata": {}
  },
  {
   "cell_type": "code",
   "execution_count": 4,
   "source": [
    "factor_signal[factor_signal == 1]"
   ],
   "outputs": [
    {
     "output_type": "execute_result",
     "data": {
      "text/plain": [
       "y                 1.0\n",
       "Y                 1.0\n",
       "开盘价跌破过去5日均价       1.0\n",
       "开盘价跌破过去15日均价      1.0\n",
       "开盘价跌破过去30日均价      1.0\n",
       "开盘价跌破过去15日均价3%    1.0\n",
       "开盘价跌破过去30日均价3%    1.0\n",
       "开盘价-昨日BBI         1.0\n",
       "前日收盘价均线空头排列       1.0\n",
       "Name: 2018-03-30 00:00:00, dtype: float64"
      ]
     },
     "metadata": {},
     "execution_count": 4
    }
   ],
   "metadata": {}
  },
  {
   "cell_type": "code",
   "execution_count": null,
   "source": [],
   "outputs": [],
   "metadata": {}
  },
  {
   "cell_type": "markdown",
   "source": [],
   "metadata": {}
  }
 ],
 "metadata": {
  "orig_nbformat": 4,
  "language_info": {
   "name": "python"
  }
 },
 "nbformat": 4,
 "nbformat_minor": 2
}