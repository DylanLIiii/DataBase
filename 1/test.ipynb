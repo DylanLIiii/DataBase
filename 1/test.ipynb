{
 "cells": [
  {
   "cell_type": "code",
   "execution_count": 1,
   "metadata": {},
   "outputs": [
    {
     "output_type": "error",
     "ename": "KeyError",
     "evalue": "True",
     "traceback": [
      "\u001b[0;31m---------------------------------------------------------------------------\u001b[0m",
      "\u001b[0;31mKeyError\u001b[0m                                  Traceback (most recent call last)",
      "\u001b[0;32m~/opt/anaconda3/lib/python3.8/site-packages/pandas/core/indexes/base.py\u001b[0m in \u001b[0;36mget_loc\u001b[0;34m(self, key, method, tolerance)\u001b[0m\n\u001b[1;32m   3079\u001b[0m             \u001b[0;32mtry\u001b[0m\u001b[0;34m:\u001b[0m\u001b[0;34m\u001b[0m\u001b[0;34m\u001b[0m\u001b[0m\n\u001b[0;32m-> 3080\u001b[0;31m                 \u001b[0;32mreturn\u001b[0m \u001b[0mself\u001b[0m\u001b[0;34m.\u001b[0m\u001b[0m_engine\u001b[0m\u001b[0;34m.\u001b[0m\u001b[0mget_loc\u001b[0m\u001b[0;34m(\u001b[0m\u001b[0mcasted_key\u001b[0m\u001b[0;34m)\u001b[0m\u001b[0;34m\u001b[0m\u001b[0;34m\u001b[0m\u001b[0m\n\u001b[0m\u001b[1;32m   3081\u001b[0m             \u001b[0;32mexcept\u001b[0m \u001b[0mKeyError\u001b[0m \u001b[0;32mas\u001b[0m \u001b[0merr\u001b[0m\u001b[0;34m:\u001b[0m\u001b[0;34m\u001b[0m\u001b[0;34m\u001b[0m\u001b[0m\n",
      "\u001b[0;32mpandas/_libs/index.pyx\u001b[0m in \u001b[0;36mpandas._libs.index.IndexEngine.get_loc\u001b[0;34m()\u001b[0m\n",
      "\u001b[0;32mpandas/_libs/index.pyx\u001b[0m in \u001b[0;36mpandas._libs.index.IndexEngine.get_loc\u001b[0;34m()\u001b[0m\n",
      "\u001b[0;32mpandas/_libs/hashtable_class_helper.pxi\u001b[0m in \u001b[0;36mpandas._libs.hashtable.PyObjectHashTable.get_item\u001b[0;34m()\u001b[0m\n",
      "\u001b[0;32mpandas/_libs/hashtable_class_helper.pxi\u001b[0m in \u001b[0;36mpandas._libs.hashtable.PyObjectHashTable.get_item\u001b[0;34m()\u001b[0m\n",
      "\u001b[0;31mKeyError\u001b[0m: True",
      "\nThe above exception was the direct cause of the following exception:\n",
      "\u001b[0;31mKeyError\u001b[0m                                  Traceback (most recent call last)",
      "\u001b[0;32m<ipython-input-1-0f12b796b85c>\u001b[0m in \u001b[0;36m<module>\u001b[0;34m\u001b[0m\n\u001b[1;32m     24\u001b[0m \u001b[0minterval3\u001b[0m \u001b[0;34m=\u001b[0m \u001b[0minterval\u001b[0m\u001b[0;34m(\u001b[0m\u001b[0msignal_output_quantile\u001b[0m\u001b[0;34m[\u001b[0m\u001b[0;34m[\u001b[0m\u001b[0;34m'annual_return_sp'\u001b[0m\u001b[0;34m,\u001b[0m\u001b[0;34m'win_rate_sp'\u001b[0m\u001b[0;34m,\u001b[0m\u001b[0;34m'pc_ratio_sp'\u001b[0m\u001b[0;34m]\u001b[0m\u001b[0;34m]\u001b[0m\u001b[0;34m.\u001b[0m\u001b[0mloc\u001b[0m\u001b[0;34m[\u001b[0m\u001b[0;36m0.5\u001b[0m\u001b[0;34m]\u001b[0m\u001b[0;34m.\u001b[0m\u001b[0mloc\u001b[0m\u001b[0;34m[\u001b[0m\u001b[0;34m'pc_ratio_sp'\u001b[0m\u001b[0;34m]\u001b[0m\u001b[0;34m,\u001b[0m\u001b[0msignal_output_quantile\u001b[0m\u001b[0;34m[\u001b[0m\u001b[0;34m[\u001b[0m\u001b[0;34m'annual_return_sp'\u001b[0m\u001b[0;34m,\u001b[0m\u001b[0;34m'win_rate_sp'\u001b[0m\u001b[0;34m,\u001b[0m\u001b[0;34m'pc_ratio_sp'\u001b[0m\u001b[0;34m]\u001b[0m\u001b[0;34m]\u001b[0m\u001b[0;34m.\u001b[0m\u001b[0mloc\u001b[0m\u001b[0;34m[\u001b[0m\u001b[0;36m0.75\u001b[0m\u001b[0;34m]\u001b[0m\u001b[0;34m.\u001b[0m\u001b[0mloc\u001b[0m\u001b[0;34m[\u001b[0m\u001b[0;34m'pc_ratio_sp'\u001b[0m\u001b[0;34m]\u001b[0m\u001b[0;34m)\u001b[0m\u001b[0;34m\u001b[0m\u001b[0;34m\u001b[0m\u001b[0m\n\u001b[1;32m     25\u001b[0m \u001b[0;34m\u001b[0m\u001b[0m\n\u001b[0;32m---> 26\u001b[0;31m \u001b[0msignal_output_weight3\u001b[0m \u001b[0;34m=\u001b[0m \u001b[0msignal_output_quantile\u001b[0m\u001b[0;34m[\u001b[0m\u001b[0msignal_output\u001b[0m\u001b[0;34m[\u001b[0m\u001b[0;34m'win_rate_sp'\u001b[0m\u001b[0;34m]\u001b[0m \u001b[0;32min\u001b[0m \u001b[0minterval3\u001b[0m\u001b[0;34m]\u001b[0m\u001b[0;34m\u001b[0m\u001b[0;34m\u001b[0m\u001b[0m\n\u001b[0m\u001b[1;32m     27\u001b[0m \u001b[0;34m\u001b[0m\u001b[0m\n\u001b[1;32m     28\u001b[0m \u001b[0;34m\u001b[0m\u001b[0m\n",
      "\u001b[0;32m~/opt/anaconda3/lib/python3.8/site-packages/pandas/core/frame.py\u001b[0m in \u001b[0;36m__getitem__\u001b[0;34m(self, key)\u001b[0m\n\u001b[1;32m   3022\u001b[0m             \u001b[0;32mif\u001b[0m \u001b[0mself\u001b[0m\u001b[0;34m.\u001b[0m\u001b[0mcolumns\u001b[0m\u001b[0;34m.\u001b[0m\u001b[0mnlevels\u001b[0m \u001b[0;34m>\u001b[0m \u001b[0;36m1\u001b[0m\u001b[0;34m:\u001b[0m\u001b[0;34m\u001b[0m\u001b[0;34m\u001b[0m\u001b[0m\n\u001b[1;32m   3023\u001b[0m                 \u001b[0;32mreturn\u001b[0m \u001b[0mself\u001b[0m\u001b[0;34m.\u001b[0m\u001b[0m_getitem_multilevel\u001b[0m\u001b[0;34m(\u001b[0m\u001b[0mkey\u001b[0m\u001b[0;34m)\u001b[0m\u001b[0;34m\u001b[0m\u001b[0;34m\u001b[0m\u001b[0m\n\u001b[0;32m-> 3024\u001b[0;31m             \u001b[0mindexer\u001b[0m \u001b[0;34m=\u001b[0m \u001b[0mself\u001b[0m\u001b[0;34m.\u001b[0m\u001b[0mcolumns\u001b[0m\u001b[0;34m.\u001b[0m\u001b[0mget_loc\u001b[0m\u001b[0;34m(\u001b[0m\u001b[0mkey\u001b[0m\u001b[0;34m)\u001b[0m\u001b[0;34m\u001b[0m\u001b[0;34m\u001b[0m\u001b[0m\n\u001b[0m\u001b[1;32m   3025\u001b[0m             \u001b[0;32mif\u001b[0m \u001b[0mis_integer\u001b[0m\u001b[0;34m(\u001b[0m\u001b[0mindexer\u001b[0m\u001b[0;34m)\u001b[0m\u001b[0;34m:\u001b[0m\u001b[0;34m\u001b[0m\u001b[0;34m\u001b[0m\u001b[0m\n\u001b[1;32m   3026\u001b[0m                 \u001b[0mindexer\u001b[0m \u001b[0;34m=\u001b[0m \u001b[0;34m[\u001b[0m\u001b[0mindexer\u001b[0m\u001b[0;34m]\u001b[0m\u001b[0;34m\u001b[0m\u001b[0;34m\u001b[0m\u001b[0m\n",
      "\u001b[0;32m~/opt/anaconda3/lib/python3.8/site-packages/pandas/core/indexes/base.py\u001b[0m in \u001b[0;36mget_loc\u001b[0;34m(self, key, method, tolerance)\u001b[0m\n\u001b[1;32m   3080\u001b[0m                 \u001b[0;32mreturn\u001b[0m \u001b[0mself\u001b[0m\u001b[0;34m.\u001b[0m\u001b[0m_engine\u001b[0m\u001b[0;34m.\u001b[0m\u001b[0mget_loc\u001b[0m\u001b[0;34m(\u001b[0m\u001b[0mcasted_key\u001b[0m\u001b[0;34m)\u001b[0m\u001b[0;34m\u001b[0m\u001b[0;34m\u001b[0m\u001b[0m\n\u001b[1;32m   3081\u001b[0m             \u001b[0;32mexcept\u001b[0m \u001b[0mKeyError\u001b[0m \u001b[0;32mas\u001b[0m \u001b[0merr\u001b[0m\u001b[0;34m:\u001b[0m\u001b[0;34m\u001b[0m\u001b[0;34m\u001b[0m\u001b[0m\n\u001b[0;32m-> 3082\u001b[0;31m                 \u001b[0;32mraise\u001b[0m \u001b[0mKeyError\u001b[0m\u001b[0;34m(\u001b[0m\u001b[0mkey\u001b[0m\u001b[0;34m)\u001b[0m \u001b[0;32mfrom\u001b[0m \u001b[0merr\u001b[0m\u001b[0;34m\u001b[0m\u001b[0;34m\u001b[0m\u001b[0m\n\u001b[0m\u001b[1;32m   3083\u001b[0m \u001b[0;34m\u001b[0m\u001b[0m\n\u001b[1;32m   3084\u001b[0m         \u001b[0;32mif\u001b[0m \u001b[0mtolerance\u001b[0m \u001b[0;32mis\u001b[0m \u001b[0;32mnot\u001b[0m \u001b[0;32mNone\u001b[0m\u001b[0;34m:\u001b[0m\u001b[0;34m\u001b[0m\u001b[0;34m\u001b[0m\u001b[0m\n",
      "\u001b[0;31mKeyError\u001b[0m: True"
     ]
    }
   ],
   "source": [
    "import pandas as pd\n",
    "import numpy as np\n",
    "import seaborn as sns\n",
    "import matplotlib.pyplot as plt\n",
    "from interval import interval, inf, imath\n",
    "\n",
    "\n",
    "\n",
    "input_data = pd.read_excel('/Users/dylan/DataBase/signal_process/50ETF-signalout copy.xlsx')\n",
    "signal_output = pd.read_excel('/Users/dylan/DataBase/signal_process/signal_result-30 copy.xlsx')\n",
    "\n",
    "signal_output_quantile = signal_output[['annual_return_sp','win_rate_sp','pc_ratio_sp']].quantile([0.25,0.5,0.75])\n",
    "\n",
    "\n",
    "signal_output_weight1 = signal_output_quantile[['annual_return_sp','win_rate_sp','pc_ratio_sp']].loc[0.5].loc['annual_return_sp'] < signal_output['annual_return_sp']\n",
    "signal_output['annual_return_sp_weight'] = signal_output_weight1.replace({True : 1, False : 0})\n",
    "\n",
    "signal_output_weight2 = signal_output_quantile[['annual_return_sp','win_rate_sp','pc_ratio_sp']].loc[0.5].loc['win_rate_sp'] < signal_output['win_rate_sp']\n",
    "signal_output['win_rate_sp_weight'] = signal_output_weight2.replace({True : 1, False : 0})\n",
    "\n",
    "\"\"\" signal_output_weight3 = signal_output_quantile[['annual_return_sp','win_rate_sp','pc_ratio_sp']].loc[0.5].loc['pc_ratio_sp'] < signal_output['pc_ratio_sp'] \n",
    "signal_output['pc_ratio_sp_weight'] = signal_output_weight3.replace({True : 1, False : 0}) \"\"\"\n",
    "\n",
    "interval3 = interval(signal_output_quantile[['annual_return_sp','win_rate_sp','pc_ratio_sp']].loc[0.5].loc['pc_ratio_sp'],signal_output_quantile[['annual_return_sp','win_rate_sp','pc_ratio_sp']].loc[0.75].loc['pc_ratio_sp'])\n",
    "\n",
    "signal_output_weight3 = signal_output_quantile[signal_output['win_rate_sp'] in interval3]\n",
    "\n",
    "\n",
    "signal_output['Max_weight'] = signal_output[['annual_return_sp_weight','win_rate_sp_weight','pc_ratio_sp_weight']].sum(axis = 1)\n",
    "\n",
    "signal_output.sort_values(by = 'Max_weight' ,axis = 0 , ascending = False, inplace = True) # 注意\n",
    "\n",
    "# 选出Top1 \n",
    "\n",
    "\n",
    "\n",
    " \n"
   ]
  },
  {
   "cell_type": "code",
   "execution_count": 4,
   "metadata": {},
   "outputs": [
    {
     "output_type": "execute_result",
     "data": {
      "text/plain": [
       "   0  1  2  3\n",
       "0  0  1 -2 -1\n",
       "1  1  1  1  1"
      ],
      "text/html": "<div>\n<style scoped>\n    .dataframe tbody tr th:only-of-type {\n        vertical-align: middle;\n    }\n\n    .dataframe tbody tr th {\n        vertical-align: top;\n    }\n\n    .dataframe thead th {\n        text-align: right;\n    }\n</style>\n<table border=\"1\" class=\"dataframe\">\n  <thead>\n    <tr style=\"text-align: right;\">\n      <th></th>\n      <th>0</th>\n      <th>1</th>\n      <th>2</th>\n      <th>3</th>\n    </tr>\n  </thead>\n  <tbody>\n    <tr>\n      <th>0</th>\n      <td>0</td>\n      <td>1</td>\n      <td>-2</td>\n      <td>-1</td>\n    </tr>\n    <tr>\n      <th>1</th>\n      <td>1</td>\n      <td>1</td>\n      <td>1</td>\n      <td>1</td>\n    </tr>\n  </tbody>\n</table>\n</div>"
     },
     "metadata": {},
     "execution_count": 4
    }
   ],
   "source": [
    "df = pd.DataFrame([[0, 1, -2, -1], [1, 1, 1, 1]])\n",
    "df"
   ]
  },
  {
   "cell_type": "code",
   "execution_count": 105,
   "metadata": {},
   "outputs": [
    {
     "output_type": "stream",
     "name": "stderr",
     "text": [
      "<ipython-input-105-64557d0dcfb5>:68: UserWarning: Boolean Series key will be reindexed to match DataFrame index.\n  df2 = signal_output[(x == signal_input['model'])]\n"
     ]
    },
    {
     "output_type": "error",
     "ename": "ValueError",
     "evalue": "matrices are not aligned",
     "traceback": [
      "\u001b[0;31m---------------------------------------------------------------------------\u001b[0m",
      "\u001b[0;31mValueError\u001b[0m                                Traceback (most recent call last)",
      "\u001b[0;32m<ipython-input-105-64557d0dcfb5>\u001b[0m in \u001b[0;36m<module>\u001b[0;34m\u001b[0m\n\u001b[1;32m     74\u001b[0m \u001b[0mdf4\u001b[0m\u001b[0;34m.\u001b[0m\u001b[0mrename\u001b[0m\u001b[0;34m(\u001b[0m\u001b[0mcolumns\u001b[0m \u001b[0;34m=\u001b[0m \u001b[0;34m{\u001b[0m\u001b[0;34m'annual_return_sp_weight'\u001b[0m \u001b[0;34m:\u001b[0m \u001b[0;34m'a'\u001b[0m\u001b[0;34m,\u001b[0m\u001b[0;34m'win_rate_sp_weight'\u001b[0m \u001b[0;34m:\u001b[0m \u001b[0;34m'b'\u001b[0m\u001b[0;34m,\u001b[0m\u001b[0;34m'pc_ratio_sp_weight'\u001b[0m \u001b[0;34m:\u001b[0m \u001b[0;34m'c'\u001b[0m\u001b[0;34m}\u001b[0m\u001b[0;34m,\u001b[0m \u001b[0minplace\u001b[0m \u001b[0;34m=\u001b[0m \u001b[0;32mTrue\u001b[0m\u001b[0;34m)\u001b[0m\u001b[0;34m\u001b[0m\u001b[0;34m\u001b[0m\u001b[0m\n\u001b[1;32m     75\u001b[0m \u001b[0mdf1\u001b[0m\u001b[0;34m.\u001b[0m\u001b[0mrename\u001b[0m\u001b[0;34m(\u001b[0m\u001b[0mcolumns\u001b[0m \u001b[0;34m=\u001b[0m \u001b[0;34m{\u001b[0m\u001b[0;34m'annual_return_sp'\u001b[0m \u001b[0;34m:\u001b[0m \u001b[0;34m'a'\u001b[0m\u001b[0;34m,\u001b[0m\u001b[0;34m'win_rate_sp'\u001b[0m \u001b[0;34m:\u001b[0m \u001b[0;34m'b'\u001b[0m\u001b[0;34m,\u001b[0m\u001b[0;34m'pc_ratio_sp'\u001b[0m \u001b[0;34m:\u001b[0m \u001b[0;34m'c'\u001b[0m\u001b[0;34m}\u001b[0m\u001b[0;34m,\u001b[0m \u001b[0minplace\u001b[0m \u001b[0;34m=\u001b[0m \u001b[0;32mTrue\u001b[0m\u001b[0;34m)\u001b[0m\u001b[0;34m\u001b[0m\u001b[0;34m\u001b[0m\u001b[0m\n\u001b[0;32m---> 76\u001b[0;31m \u001b[0msignal_output\u001b[0m\u001b[0;34m[\u001b[0m\u001b[0;34m'signal'\u001b[0m\u001b[0;34m]\u001b[0m \u001b[0;34m=\u001b[0m \u001b[0mdf1\u001b[0m\u001b[0;34m.\u001b[0m\u001b[0mdot\u001b[0m\u001b[0;34m(\u001b[0m\u001b[0mdf4\u001b[0m\u001b[0;34m[\u001b[0m\u001b[0;34m[\u001b[0m\u001b[0;34m'a'\u001b[0m\u001b[0;34m,\u001b[0m\u001b[0;34m'b'\u001b[0m\u001b[0;34m,\u001b[0m\u001b[0;34m'b'\u001b[0m\u001b[0;34m]\u001b[0m\u001b[0;34m]\u001b[0m\u001b[0;34m)\u001b[0m\u001b[0;34m\u001b[0m\u001b[0;34m\u001b[0m\u001b[0m\n\u001b[0m",
      "\u001b[0;32m~/opt/anaconda3/lib/python3.8/site-packages/pandas/core/frame.py\u001b[0m in \u001b[0;36mdot\u001b[0;34m(self, other)\u001b[0m\n\u001b[1;32m   1242\u001b[0m             \u001b[0mcommon\u001b[0m \u001b[0;34m=\u001b[0m \u001b[0mself\u001b[0m\u001b[0;34m.\u001b[0m\u001b[0mcolumns\u001b[0m\u001b[0;34m.\u001b[0m\u001b[0munion\u001b[0m\u001b[0;34m(\u001b[0m\u001b[0mother\u001b[0m\u001b[0;34m.\u001b[0m\u001b[0mindex\u001b[0m\u001b[0;34m)\u001b[0m\u001b[0;34m\u001b[0m\u001b[0;34m\u001b[0m\u001b[0m\n\u001b[1;32m   1243\u001b[0m             \u001b[0;32mif\u001b[0m \u001b[0mlen\u001b[0m\u001b[0;34m(\u001b[0m\u001b[0mcommon\u001b[0m\u001b[0;34m)\u001b[0m \u001b[0;34m>\u001b[0m \u001b[0mlen\u001b[0m\u001b[0;34m(\u001b[0m\u001b[0mself\u001b[0m\u001b[0;34m.\u001b[0m\u001b[0mcolumns\u001b[0m\u001b[0;34m)\u001b[0m \u001b[0;32mor\u001b[0m \u001b[0mlen\u001b[0m\u001b[0;34m(\u001b[0m\u001b[0mcommon\u001b[0m\u001b[0;34m)\u001b[0m \u001b[0;34m>\u001b[0m \u001b[0mlen\u001b[0m\u001b[0;34m(\u001b[0m\u001b[0mother\u001b[0m\u001b[0;34m.\u001b[0m\u001b[0mindex\u001b[0m\u001b[0;34m)\u001b[0m\u001b[0;34m:\u001b[0m\u001b[0;34m\u001b[0m\u001b[0;34m\u001b[0m\u001b[0m\n\u001b[0;32m-> 1244\u001b[0;31m                 \u001b[0;32mraise\u001b[0m \u001b[0mValueError\u001b[0m\u001b[0;34m(\u001b[0m\u001b[0;34m\"matrices are not aligned\"\u001b[0m\u001b[0;34m)\u001b[0m\u001b[0;34m\u001b[0m\u001b[0;34m\u001b[0m\u001b[0m\n\u001b[0m\u001b[1;32m   1245\u001b[0m \u001b[0;34m\u001b[0m\u001b[0m\n\u001b[1;32m   1246\u001b[0m             \u001b[0mleft\u001b[0m \u001b[0;34m=\u001b[0m \u001b[0mself\u001b[0m\u001b[0;34m.\u001b[0m\u001b[0mreindex\u001b[0m\u001b[0;34m(\u001b[0m\u001b[0mcolumns\u001b[0m\u001b[0;34m=\u001b[0m\u001b[0mcommon\u001b[0m\u001b[0;34m,\u001b[0m \u001b[0mcopy\u001b[0m\u001b[0;34m=\u001b[0m\u001b[0;32mFalse\u001b[0m\u001b[0;34m)\u001b[0m\u001b[0;34m\u001b[0m\u001b[0;34m\u001b[0m\u001b[0m\n",
      "\u001b[0;31mValueError\u001b[0m: matrices are not aligned"
     ]
    }
   ],
   "source": [
    "import pandas as pd\n",
    "import numpy as np\n",
    "import seaborn as sns\n",
    "import matplotlib.pyplot as plt\n",
    "\n",
    "\n",
    "input_data = pd.read_excel('/Users/dylan/DataBase/signal_process/50ETF-signalout copy.xlsx')\n",
    "signal_input = pd.read_excel('/Users/dylan/DataBase/signal_process/signal_result-30 copy.xlsx')\n",
    "\n",
    "# 加权选择\n",
    "\n",
    "signal_input_quantile = signal_input[['annual_return_sp','win_rate_sp','pc_ratio_sp']].quantile([0.25,0.5,0.75])\n",
    "for col_name in ['annual_return_sp','win_rate_sp','pc_ratio_sp']:\n",
    "    def get_weight_group(x) :\n",
    "        if x < signal_input_quantile[col_name].loc[0.25]: \n",
    "            return 1\n",
    "        elif signal_input_quantile[col_name].loc[0.25] < x  and  x < signal_input_quantile[col_name].loc[0.5]: \n",
    "            return 2 \n",
    "        elif signal_input_quantile[col_name].loc[0.5] < x and  x < signal_input_quantile[col_name].loc[0.75] : \n",
    "            return 3         \n",
    "        else : \n",
    "            return 4 \n",
    "    new_weighte_col_name = col_name + '_weight'\n",
    "    signal_input[new_weighte_col_name] = signal_input[col_name].map(get_weight_group)\n",
    "\n",
    "signal_input['Max_method'] = signal_input[['annual_return_sp_weight','win_rate_sp_weight','pc_ratio_sp_weight']].sum(axis = 1)\n",
    "\n",
    "signal_input['Max_method'].sort_values(ascending = False)\n",
    "\n",
    "# 至少选择当期Top3\n",
    "signal_input.sort_values(by = 'Max_method', ascending = False ).groupby('start_date').head(3)\n",
    "\n",
    "\n",
    "\n",
    "\"\"\"  #当期相同则计算上期method\n",
    "if len(signal_input_filter['Max_method']) > 3:       \n",
    "    signal_input_filter.sort_values(by=['model','start_date'],inplace=True) \n",
    "    signal_input_filter['Last_method'] = signal_input_filter['Max_method'].shift(1) \n",
    "    signal_output = signal_input_filter.nlargest(3,'Last_method',keep=\"first\")\n",
    "else:\n",
    "    signal_output = signal_input_filter.sort_values(by=\"start_date\").shift(1)\n",
    "\n",
    "    signal_input_filter.sort_values(by='start_date',inplace=True)\n",
    "    signal_input_filter['model_selected'] = signal_input_filter['model'].shift(1)\n",
    "    \n",
    "    signal_input_filter.to_excel('/Users/dylan/DataBase/signal_process/1.xlsx',index=False) \"\"\"\n",
    "# 选出当期Top3\n",
    "\n",
    "signal_input_filter = signal_input.groupby(by = 'start_date').apply(lambda x : x.nlargest(3, 'Max_method', keep = 'all'))\n",
    "\n",
    "\n",
    "\"\"\" # 权重相同则比较上一期\n",
    "for i in ['start_date']:\n",
    "    if len(signal_input) \"\"\"\n",
    "signal_output = pd.DataFrame()\n",
    "for i in signal_input_filter['start_date'].drop_duplicates(): \n",
    "    column = signal_input_filter.loc[(i)].sample(1)\n",
    "    signal_output = signal_output.append(column)\n",
    "\n",
    "signal_output['model_selected'] = signal_output['model'].shift(1)\n",
    "\n",
    "### 得到信号\n",
    "\n",
    "        \n",
    "df1 = signal_output[['annual_return_sp','win_rate_sp','pc_ratio_sp']]\n",
    "df3 = pd.DataFrame()\n",
    "for x in signal_output['model']:\n",
    "    df2 = signal_output[(x == signal_input['model'])]\n",
    "    for y in signal_output['start_date']: \n",
    "        new_column = df2[y == df2['start_date']]\n",
    "        df3 = df3.append(new_column)\n",
    "\n",
    "df4 = df3.drop_duplicates('start_date')\n",
    "df4.rename(columns = {'annual_return_sp_weight' : 'a','win_rate_sp_weight' : 'b','pc_ratio_sp_weight' : 'c'}, inplace = True)\n",
    "df1.rename(columns = {'annual_return_sp' : 'a','win_rate_sp' : 'b','pc_ratio_sp' : 'c'}, inplace = True)\n",
    "signal_output['signal'] = df1.dot(df4[['a','b','c']].T)"
   ]
  },
  {
   "cell_type": "code",
   "execution_count": 114,
   "metadata": {},
   "outputs": [
    {
     "output_type": "execute_result",
     "data": {
      "text/plain": [
       "   1624  1059  630   103   966   1281  1984  1559  1022  519   ...  1254  \\\n",
       "a     4     2     2     4     4     4     1     2     4     4  ...     3   \n",
       "b     3     4     4     4     4     3     3     4     4     4  ...     4   \n",
       "c     2     3     4     4     3     3     4     2     3     4  ...     3   \n",
       "\n",
       "   166   1319  266   18    653   2156  1127  460   939   \n",
       "a     4     3     3     3     4     1     3     4     4  \n",
       "b     4     4     4     4     3     4     4     4     4  \n",
       "c     4     4     4     4     4     1     3     4     3  \n",
       "\n",
       "[3 rows x 45 columns]"
      ],
      "text/html": "<div>\n<style scoped>\n    .dataframe tbody tr th:only-of-type {\n        vertical-align: middle;\n    }\n\n    .dataframe tbody tr th {\n        vertical-align: top;\n    }\n\n    .dataframe thead th {\n        text-align: right;\n    }\n</style>\n<table border=\"1\" class=\"dataframe\">\n  <thead>\n    <tr style=\"text-align: right;\">\n      <th></th>\n      <th>1624</th>\n      <th>1059</th>\n      <th>630</th>\n      <th>103</th>\n      <th>966</th>\n      <th>1281</th>\n      <th>1984</th>\n      <th>1559</th>\n      <th>1022</th>\n      <th>519</th>\n      <th>...</th>\n      <th>1254</th>\n      <th>166</th>\n      <th>1319</th>\n      <th>266</th>\n      <th>18</th>\n      <th>653</th>\n      <th>2156</th>\n      <th>1127</th>\n      <th>460</th>\n      <th>939</th>\n    </tr>\n  </thead>\n  <tbody>\n    <tr>\n      <th>a</th>\n      <td>4</td>\n      <td>2</td>\n      <td>2</td>\n      <td>4</td>\n      <td>4</td>\n      <td>4</td>\n      <td>1</td>\n      <td>2</td>\n      <td>4</td>\n      <td>4</td>\n      <td>...</td>\n      <td>3</td>\n      <td>4</td>\n      <td>3</td>\n      <td>3</td>\n      <td>3</td>\n      <td>4</td>\n      <td>1</td>\n      <td>3</td>\n      <td>4</td>\n      <td>4</td>\n    </tr>\n    <tr>\n      <th>b</th>\n      <td>3</td>\n      <td>4</td>\n      <td>4</td>\n      <td>4</td>\n      <td>4</td>\n      <td>3</td>\n      <td>3</td>\n      <td>4</td>\n      <td>4</td>\n      <td>4</td>\n      <td>...</td>\n      <td>4</td>\n      <td>4</td>\n      <td>4</td>\n      <td>4</td>\n      <td>4</td>\n      <td>3</td>\n      <td>4</td>\n      <td>4</td>\n      <td>4</td>\n      <td>4</td>\n    </tr>\n    <tr>\n      <th>c</th>\n      <td>2</td>\n      <td>3</td>\n      <td>4</td>\n      <td>4</td>\n      <td>3</td>\n      <td>3</td>\n      <td>4</td>\n      <td>2</td>\n      <td>3</td>\n      <td>4</td>\n      <td>...</td>\n      <td>3</td>\n      <td>4</td>\n      <td>4</td>\n      <td>4</td>\n      <td>4</td>\n      <td>4</td>\n      <td>1</td>\n      <td>3</td>\n      <td>4</td>\n      <td>3</td>\n    </tr>\n  </tbody>\n</table>\n<p>3 rows × 45 columns</p>\n</div>"
     },
     "metadata": {},
     "execution_count": 114
    }
   ],
   "source": [
    "df4[['a','b','c']].T"
   ]
  },
  {
   "cell_type": "code",
   "execution_count": 115,
   "metadata": {},
   "outputs": [
    {
     "output_type": "execute_result",
     "data": {
      "text/plain": [
       "          a     b      c\n",
       "1624   6.02  0.50   1.14\n",
       "1059   0.47  0.71   1.64\n",
       "103    7.13  0.38   3.84\n",
       "1281   6.81  0.55   1.41\n",
       "1559  -1.83  0.70   1.19\n",
       "519   11.03  0.57   2.15\n",
       "630   -0.30  0.70   2.05\n",
       "53     3.85  0.50   4.74\n",
       "268    4.02  0.60   2.60\n",
       "954    3.96  0.67   1.73\n",
       "347    3.51  0.56   2.38\n",
       "1460   3.15  0.73   1.27\n",
       "184    1.33  0.57   3.20\n",
       "1394   1.17  0.50   1.32\n",
       "1698   0.07  0.56   1.12\n",
       "511    5.93  0.39   2.17\n",
       "258    8.16  0.50   2.68\n",
       "376    2.18  0.64   2.33\n",
       "1022   3.33  0.46   1.69\n",
       "1119   4.50  0.71   1.57\n",
       "168    5.51  0.50   3.27\n",
       "1547   0.72  0.63   1.21\n",
       "1183   0.55  0.75   1.50\n",
       "26     3.59  0.46  16.07\n",
       "1984  -3.01  0.47   0.97\n",
       "566    4.20  0.60   2.10\n",
       "267    6.52  0.48   2.62\n",
       "1161   1.85  0.50   1.52\n",
       "1254   1.81  0.60   1.46\n",
       "431   13.85  0.71   2.24\n",
       "166    3.66  0.60   3.29\n",
       "1      0.95  0.57  65.33\n",
       "1319   1.22  0.57   1.38\n",
       "1550   1.41  0.38   1.21\n",
       "567    3.76  0.57   2.10\n",
       "266    1.43  0.64   2.63\n",
       "18     1.20  0.38  27.56\n",
       "653   11.41  0.50   2.02\n",
       "2156  -7.09  0.75   0.88\n",
       "1127   1.48  0.38   1.56\n",
       "460    9.77  0.56   2.19\n",
       "939    8.89  0.58   1.74\n",
       "909    1.53  0.46   1.76\n",
       "966    6.60  0.62   1.73\n",
       "577    2.78  1.00   2.09"
      ],
      "text/html": "<div>\n<style scoped>\n    .dataframe tbody tr th:only-of-type {\n        vertical-align: middle;\n    }\n\n    .dataframe tbody tr th {\n        vertical-align: top;\n    }\n\n    .dataframe thead th {\n        text-align: right;\n    }\n</style>\n<table border=\"1\" class=\"dataframe\">\n  <thead>\n    <tr style=\"text-align: right;\">\n      <th></th>\n      <th>a</th>\n      <th>b</th>\n      <th>c</th>\n    </tr>\n  </thead>\n  <tbody>\n    <tr>\n      <th>1624</th>\n      <td>6.02</td>\n      <td>0.50</td>\n      <td>1.14</td>\n    </tr>\n    <tr>\n      <th>1059</th>\n      <td>0.47</td>\n      <td>0.71</td>\n      <td>1.64</td>\n    </tr>\n    <tr>\n      <th>103</th>\n      <td>7.13</td>\n      <td>0.38</td>\n      <td>3.84</td>\n    </tr>\n    <tr>\n      <th>1281</th>\n      <td>6.81</td>\n      <td>0.55</td>\n      <td>1.41</td>\n    </tr>\n    <tr>\n      <th>1559</th>\n      <td>-1.83</td>\n      <td>0.70</td>\n      <td>1.19</td>\n    </tr>\n    <tr>\n      <th>519</th>\n      <td>11.03</td>\n      <td>0.57</td>\n      <td>2.15</td>\n    </tr>\n    <tr>\n      <th>630</th>\n      <td>-0.30</td>\n      <td>0.70</td>\n      <td>2.05</td>\n    </tr>\n    <tr>\n      <th>53</th>\n      <td>3.85</td>\n      <td>0.50</td>\n      <td>4.74</td>\n    </tr>\n    <tr>\n      <th>268</th>\n      <td>4.02</td>\n      <td>0.60</td>\n      <td>2.60</td>\n    </tr>\n    <tr>\n      <th>954</th>\n      <td>3.96</td>\n      <td>0.67</td>\n      <td>1.73</td>\n    </tr>\n    <tr>\n      <th>347</th>\n      <td>3.51</td>\n      <td>0.56</td>\n      <td>2.38</td>\n    </tr>\n    <tr>\n      <th>1460</th>\n      <td>3.15</td>\n      <td>0.73</td>\n      <td>1.27</td>\n    </tr>\n    <tr>\n      <th>184</th>\n      <td>1.33</td>\n      <td>0.57</td>\n      <td>3.20</td>\n    </tr>\n    <tr>\n      <th>1394</th>\n      <td>1.17</td>\n      <td>0.50</td>\n      <td>1.32</td>\n    </tr>\n    <tr>\n      <th>1698</th>\n      <td>0.07</td>\n      <td>0.56</td>\n      <td>1.12</td>\n    </tr>\n    <tr>\n      <th>511</th>\n      <td>5.93</td>\n      <td>0.39</td>\n      <td>2.17</td>\n    </tr>\n    <tr>\n      <th>258</th>\n      <td>8.16</td>\n      <td>0.50</td>\n      <td>2.68</td>\n    </tr>\n    <tr>\n      <th>376</th>\n      <td>2.18</td>\n      <td>0.64</td>\n      <td>2.33</td>\n    </tr>\n    <tr>\n      <th>1022</th>\n      <td>3.33</td>\n      <td>0.46</td>\n      <td>1.69</td>\n    </tr>\n    <tr>\n      <th>1119</th>\n      <td>4.50</td>\n      <td>0.71</td>\n      <td>1.57</td>\n    </tr>\n    <tr>\n      <th>168</th>\n      <td>5.51</td>\n      <td>0.50</td>\n      <td>3.27</td>\n    </tr>\n    <tr>\n      <th>1547</th>\n      <td>0.72</td>\n      <td>0.63</td>\n      <td>1.21</td>\n    </tr>\n    <tr>\n      <th>1183</th>\n      <td>0.55</td>\n      <td>0.75</td>\n      <td>1.50</td>\n    </tr>\n    <tr>\n      <th>26</th>\n      <td>3.59</td>\n      <td>0.46</td>\n      <td>16.07</td>\n    </tr>\n    <tr>\n      <th>1984</th>\n      <td>-3.01</td>\n      <td>0.47</td>\n      <td>0.97</td>\n    </tr>\n    <tr>\n      <th>566</th>\n      <td>4.20</td>\n      <td>0.60</td>\n      <td>2.10</td>\n    </tr>\n    <tr>\n      <th>267</th>\n      <td>6.52</td>\n      <td>0.48</td>\n      <td>2.62</td>\n    </tr>\n    <tr>\n      <th>1161</th>\n      <td>1.85</td>\n      <td>0.50</td>\n      <td>1.52</td>\n    </tr>\n    <tr>\n      <th>1254</th>\n      <td>1.81</td>\n      <td>0.60</td>\n      <td>1.46</td>\n    </tr>\n    <tr>\n      <th>431</th>\n      <td>13.85</td>\n      <td>0.71</td>\n      <td>2.24</td>\n    </tr>\n    <tr>\n      <th>166</th>\n      <td>3.66</td>\n      <td>0.60</td>\n      <td>3.29</td>\n    </tr>\n    <tr>\n      <th>1</th>\n      <td>0.95</td>\n      <td>0.57</td>\n      <td>65.33</td>\n    </tr>\n    <tr>\n      <th>1319</th>\n      <td>1.22</td>\n      <td>0.57</td>\n      <td>1.38</td>\n    </tr>\n    <tr>\n      <th>1550</th>\n      <td>1.41</td>\n      <td>0.38</td>\n      <td>1.21</td>\n    </tr>\n    <tr>\n      <th>567</th>\n      <td>3.76</td>\n      <td>0.57</td>\n      <td>2.10</td>\n    </tr>\n    <tr>\n      <th>266</th>\n      <td>1.43</td>\n      <td>0.64</td>\n      <td>2.63</td>\n    </tr>\n    <tr>\n      <th>18</th>\n      <td>1.20</td>\n      <td>0.38</td>\n      <td>27.56</td>\n    </tr>\n    <tr>\n      <th>653</th>\n      <td>11.41</td>\n      <td>0.50</td>\n      <td>2.02</td>\n    </tr>\n    <tr>\n      <th>2156</th>\n      <td>-7.09</td>\n      <td>0.75</td>\n      <td>0.88</td>\n    </tr>\n    <tr>\n      <th>1127</th>\n      <td>1.48</td>\n      <td>0.38</td>\n      <td>1.56</td>\n    </tr>\n    <tr>\n      <th>460</th>\n      <td>9.77</td>\n      <td>0.56</td>\n      <td>2.19</td>\n    </tr>\n    <tr>\n      <th>939</th>\n      <td>8.89</td>\n      <td>0.58</td>\n      <td>1.74</td>\n    </tr>\n    <tr>\n      <th>909</th>\n      <td>1.53</td>\n      <td>0.46</td>\n      <td>1.76</td>\n    </tr>\n    <tr>\n      <th>966</th>\n      <td>6.60</td>\n      <td>0.62</td>\n      <td>1.73</td>\n    </tr>\n    <tr>\n      <th>577</th>\n      <td>2.78</td>\n      <td>1.00</td>\n      <td>2.09</td>\n    </tr>\n  </tbody>\n</table>\n</div>"
     },
     "metadata": {},
     "execution_count": 115
    }
   ],
   "source": [
    "df1"
   ]
  },
  {
   "cell_type": "code",
   "execution_count": 118,
   "metadata": {},
   "outputs": [],
   "source": [
    "signal_output['signal'] = df1.dot(df4[['a','b','c']].T).T.iloc[0]\n",
    "signal_output['signal']"
   ]
  },
  {
   "cell_type": "code",
   "execution_count": 122,
   "metadata": {},
   "outputs": [
    {
     "output_type": "execute_result",
     "data": {
      "text/plain": [
       "1624    0.325255\n",
       "1059    0.197109\n",
       "103     0.384313\n",
       "1281    0.349240\n",
       "1559    0.134002\n",
       "519     0.463992\n",
       "630     0.182843\n",
       "53      0.316035\n",
       "268     0.295477\n",
       "954     0.284451\n",
       "347     0.279280\n",
       "1460    0.259656\n",
       "184     0.235360\n",
       "1394    0.206641\n",
       "1698    0.177859\n",
       "511     0.333790\n",
       "258     0.397770\n",
       "376     0.247010\n",
       "1022    0.264328\n",
       "1119    0.296661\n",
       "168     0.339085\n",
       "1547    0.196486\n",
       "1183    0.198106\n",
       "26      0.449975\n",
       "1984    0.097558\n",
       "566     0.293733\n",
       "267     0.355781\n",
       "1161    0.226078\n",
       "1254    0.226202\n",
       "431     0.538001\n",
       "166     0.295103\n",
       "1       1.000000\n",
       "1319    0.209943\n",
       "1550    0.209008\n",
       "567     0.282208\n",
       "266     0.232058\n",
       "18      0.532083\n",
       "653     0.470533\n",
       "2156    0.000000\n",
       "1127    0.215113\n",
       "460     0.432906\n",
       "939     0.405744\n",
       "909     0.220346\n",
       "966     0.349302\n",
       "577     0.265699\n",
       "Name: signal, dtype: float64"
      ]
     },
     "metadata": {},
     "execution_count": 122
    }
   ],
   "source": [
    "Max = signal_output['signal'].max()\n",
    "Min = signal_output['signal'].min()\n",
    "signal_output['signal'] = (signal_output['signal'] - Min)/(Max - Min)"
   ]
  },
  {
   "cell_type": "code",
   "execution_count": null,
   "metadata": {},
   "outputs": [],
   "source": []
  }
 ],
 "metadata": {
  "interpreter": {
   "hash": "6e41dd01fe67b3b87d0ee4f890a1dc8013ce26741ca91638f461e94c1bd39bff"
  },
  "kernelspec": {
   "name": "python3",
   "display_name": "Python 3.8.8 64-bit ('base': conda)"
  },
  "language_info": {
   "codemirror_mode": {
    "name": "ipython",
    "version": 3
   },
   "file_extension": ".py",
   "mimetype": "text/x-python",
   "name": "python",
   "nbconvert_exporter": "python",
   "pygments_lexer": "ipython3",
   "version": "3.8.8"
  }
 },
 "nbformat": 4,
 "nbformat_minor": 2
}