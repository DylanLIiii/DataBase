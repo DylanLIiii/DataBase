{
 "cells": [
  {
   "cell_type": "code",
   "execution_count": null,
   "metadata": {},
   "outputs": [],
   "source": [
    "import pandas as pd \n",
    "import seaborn as sns\n",
    "import numpy as np\n",
    "import  matplotlib.pyplot as plt\n",
    "import datetime\n"
   ]
  },
  {
   "cell_type": "code",
   "execution_count": null,
   "metadata": {},
   "outputs": [],
   "source": [
    "input_data = pd.read_excel(r'/Users/dylan/Github repo/DataBase/signal_process/benchmark_result-30_5.xlsx',sheet_name = 'Sheet1')\n",
    "signal_input = pd.read_excel(r'/Users/dylan/Github repo/DataBase/signal_process/benchmark_result-30_5.xlsx',sheet_name = 'Sheet3')\n",
    "signal_input = signal_input[signal_input['model'] == 'benchmark']\n"
   ]
  },
  {
   "cell_type": "code",
   "execution_count": null,
   "metadata": {},
   "outputs": [],
   "source": [
    "# 透视 \n",
    "# input_pivot = input_data.pivot_table(index = 'start_date',columns = 'model',values = 'sharpe_ratio_sp')\n",
    "# 判断集合\n",
    "# input_data.drop(input_data.tail(int(len(input_data)/2)).index, inplace=True)"
   ]
  },
  {
   "cell_type": "code",
   "execution_count": null,
   "metadata": {},
   "outputs": [],
   "source": [
    "# 测试\n",
    "signal_input['start_date'] = pd.to_datetime(signal_input.start_date, format = r'%Y%m%d', errors = 'ignore') \n",
    "\n",
    "signal_input.drop(labels = 'Unnamed: 0',axis = 1, inplace = True)\n",
    "signal_input.reset_index(drop = True)\n"
   ]
  },
  {
   "cell_type": "code",
   "execution_count": null,
   "metadata": {},
   "outputs": [],
   "source": [
    "# 正确\n",
    "def signal_cal(window):\n",
    "    list_ = list(signal_input.rolling(windows = window,min_periods = window)['start_date'])[window:]\n",
    "    def get_model(x):\n",
    "\n",
    "        def get_value(x):\n",
    "            value = x['sharpe_ratio_sp'] - x[x['model'] == 'benchmark']['sharpe_ratio_sp'].iat[0] # 返回一个序列\n",
    "            return value\n",
    "\n",
    "        def get_lable(x):\n",
    "            if x >= 0:\n",
    "                return True\n",
    "            else: \n",
    "                return False\n",
    "        model_list = []\n",
    "        for i in len(list_):\n",
    "            x = x.loc[(list_[i])]\n",
    "            \n",
    "            x['value'] = list(x.groupby('start_date').apply(get_value)) # 转为list\n",
    "            x['lable'] = list(x['value'].apply(get_lable))\n",
    "            x.loc[:,'value'] = x.transform({'value' : lambda x : np.square(x)})\n",
    "            # input_data.groupby(['model','lable']).sum().apply(get_loss)\n",
    "            input_filter = x.groupby(['model','lable']).agg({'value' : 'sum'})\n",
    "            input_filter.drop(input_filter.tail(1).index,inplace=True)\n",
    "            input_filter['loss'] = [input_filter.loc[model].diff()['value'].iat[1] for model in list(input_filter.index.get_level_values(0))]\n",
    "            model_list  = list(input_filter['loss'].nlargest(10).index.get_level_values(0).drop_duplicates())\n",
    "        model_list = model_list.append(model_list)    \n",
    "        return model_list"
   ]
  },
  {
   "cell_type": "code",
   "execution_count": null,
   "metadata": {},
   "outputs": [],
   "source": [
    "get_model"
   ]
  },
  {
   "cell_type": "code",
   "execution_count": 209,
   "metadata": {},
   "outputs": [
    {
     "data": {
      "text/plain": [
       "pandas.core.series.Series"
      ]
     },
     "execution_count": 209,
     "metadata": {},
     "output_type": "execute_result"
    }
   ],
   "source": [
    "list_ = list(signal_input.rolling(window = 12,min_periods = 12)['start_date'])[12:]\n",
    "type(list_[0])"
   ]
  },
  {
   "cell_type": "code",
   "execution_count": null,
   "metadata": {},
   "outputs": [],
   "source": [
    "def get_loss(window,period):\n",
    "        def get_value(x):\n",
    "            value = x['sharpe_ratio_sp'] - x[x['model'] == 'benchmark']['sharpe_ratio_sp'].iat[0] # 返回一个序列\n",
    "            return value\n",
    "        def get_lable(x):\n",
    "            if x >= 0:\n",
    "                return True\n",
    "            else: \n",
    "                return False\n",
    "        input_data['value'] = list(input_data.groupby('start_date').apply(get_value)) # 转为list\n",
    "        input_data['lable'] = list(input_data['value'].apply(get_lable))\n",
    "        input_data.loc[:,'value'] = input_data.transform({'value' : lambda x : np.square(x)})\n",
    "        # input_data.groupby(['model','lable']).sum().apply(get_loss)\n",
    "        input_filter = input_data.groupby(['model','lable']).agg({'value' : 'sum'})\n",
    "        input_filter.drop(input_filter.tail(1).index,inplace=True)\n",
    "        input_filter['loss'] = [input_filter.loc[model].diff()['value'].iat[1] for model in list(input_filter.index.get_level_values(0))]\n",
    "        input_filter['loss'].nlargest(10)\n",
    "    signal_input.rolling(window = window).apply()"
   ]
  },
  {
   "cell_type": "code",
   "execution_count": null,
   "metadata": {},
   "outputs": [],
   "source": [
    "# 损失函数\n",
    "\n",
    "def get_value(x):\n",
    "    value = x['sharpe_ratio_sp'] - x[x['model'] == 'benchmark']['sharpe_ratio_sp'].iat[0] # 返回一个序列\n",
    "    return value\n",
    "def get_lable(x):\n",
    "    if x >= 0:\n",
    "        return True\n",
    "    else: \n",
    "        return False\n",
    "input_data['value'] = list(input_data.groupby('start_date').apply(get_value)) # 转为list\n",
    "input_data['lable'] = list(input_data['value'].apply(get_lable))\n",
    "input_data.loc[:,'value'] = input_data.transform({'value' : lambda x : np.square(x)})\n",
    "# input_data.groupby(['model','lable']).sum().apply(get_loss)\n",
    "input_filter = input_data.groupby(['model','lable']).agg({'value' : 'sum'})\n",
    "input_filter.drop(input_filter.tail(1).index,inplace=True)\n",
    "input_filter['loss'] = [input_filter.loc[model].diff()['value'].iat[1] for model in list(input_filter.index.get_level_values(0))]\n",
    "list(input_filter['loss'].nlargest(10).index.get_level_values(0).drop_duplicates())\n"
   ]
  },
  {
   "cell_type": "code",
   "execution_count": null,
   "metadata": {},
   "outputs": [],
   "source": []
  },
  {
   "cell_type": "code",
   "execution_count": null,
   "metadata": {},
   "outputs": [],
   "source": [
    "get_model(input_data)"
   ]
  },
  {
   "cell_type": "code",
   "execution_count": null,
   "metadata": {},
   "outputs": [],
   "source": []
  }
 ],
 "metadata": {
  "interpreter": {
   "hash": "6e41dd01fe67b3b87d0ee4f890a1dc8013ce26741ca91638f461e94c1bd39bff"
  },
  "kernelspec": {
   "display_name": "Python 3.8.8 64-bit ('base': conda)",
   "name": "python3"
  },
  "language_info": {
   "codemirror_mode": {
    "name": "ipython",
    "version": 3
   },
   "file_extension": ".py",
   "mimetype": "text/x-python",
   "name": "python",
   "nbconvert_exporter": "python",
   "pygments_lexer": "ipython3",
   "version": "3.8.8"
  },
  "orig_nbformat": 4
 },
 "nbformat": 4,
 "nbformat_minor": 2
}