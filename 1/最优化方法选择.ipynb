{
 "cells": [
  {
   "cell_type": "code",
   "execution_count": null,
   "metadata": {},
   "outputs": [],
   "source": [
    "import pandas as pd \n",
    "import seaborn as sns\n",
    "import numpy as np\n",
    "import  matplotlib.pyplot as plt\n",
    "import datetime\n"
   ]
  },
  {
   "cell_type": "code",
   "execution_count": 115,
   "metadata": {},
   "outputs": [],
   "source": [
    "input_data = pd.read_excel(r'/Users/dylan/Github repo/DataBase/signal_process/benchmark_result-30_5.xlsx',sheet_name = 'Sheet1')\n",
    "signal_input = pd.read_excel(r'/Users/dylan/Github repo/DataBase/signal_process/benchmark_result-30_5.xlsx',sheet_name = 'Sheet3')\n",
    "signal_input_roll = signal_input[signal_input['model'] == 'benchmark']\n"
   ]
  },
  {
   "cell_type": "code",
   "execution_count": null,
   "metadata": {},
   "outputs": [],
   "source": [
    "# 透视 \n",
    "# input_pivot = input_data.pivot_table(index = 'start_date',columns = 'model',values = 'sharpe_ratio_sp')\n",
    "# 判断集合\n",
    "# input_data.drop(input_data.tail(int(len(input_data)/2)).index, inplace=True)"
   ]
  },
  {
   "cell_type": "code",
   "execution_count": 116,
   "metadata": {},
   "outputs": [
    {
     "data": {
      "text/html": [
       "<div>\n",
       "<style scoped>\n",
       "    .dataframe tbody tr th:only-of-type {\n",
       "        vertical-align: middle;\n",
       "    }\n",
       "\n",
       "    .dataframe tbody tr th {\n",
       "        vertical-align: top;\n",
       "    }\n",
       "\n",
       "    .dataframe thead th {\n",
       "        text-align: right;\n",
       "    }\n",
       "</style>\n",
       "<table border=\"1\" class=\"dataframe\">\n",
       "  <thead>\n",
       "    <tr style=\"text-align: right;\">\n",
       "      <th></th>\n",
       "      <th>start_date</th>\n",
       "      <th>end_date</th>\n",
       "      <th>model</th>\n",
       "      <th>annual_return_sp</th>\n",
       "      <th>sharpe_ratio_sp</th>\n",
       "      <th>win_rate_sp</th>\n",
       "      <th>pc_ratio_sp</th>\n",
       "      <th>sp_rank</th>\n",
       "    </tr>\n",
       "  </thead>\n",
       "  <tbody>\n",
       "    <tr>\n",
       "      <th>0</th>\n",
       "      <td>2018-05-01</td>\n",
       "      <td>2018-06-12</td>\n",
       "      <td>2日开盘价持续下跌-1120-bagc</td>\n",
       "      <td>3.41</td>\n",
       "      <td>3.27</td>\n",
       "      <td>0.41</td>\n",
       "      <td>1.87</td>\n",
       "      <td>0.656716</td>\n",
       "    </tr>\n",
       "    <tr>\n",
       "      <th>1</th>\n",
       "      <td>2018-05-01</td>\n",
       "      <td>2018-06-12</td>\n",
       "      <td>2日开盘价持续下跌-1120-dtc</td>\n",
       "      <td>3.41</td>\n",
       "      <td>3.27</td>\n",
       "      <td>0.41</td>\n",
       "      <td>1.87</td>\n",
       "      <td>0.656716</td>\n",
       "    </tr>\n",
       "    <tr>\n",
       "      <th>2</th>\n",
       "      <td>2018-05-01</td>\n",
       "      <td>2018-06-12</td>\n",
       "      <td>2日开盘价持续下跌-1120-knnc</td>\n",
       "      <td>-0.28</td>\n",
       "      <td>-0.35</td>\n",
       "      <td>0.25</td>\n",
       "      <td>1.05</td>\n",
       "      <td>0.074627</td>\n",
       "    </tr>\n",
       "    <tr>\n",
       "      <th>3</th>\n",
       "      <td>2018-05-01</td>\n",
       "      <td>2018-06-12</td>\n",
       "      <td>2日开盘价持续下跌-1120-lr</td>\n",
       "      <td>3.41</td>\n",
       "      <td>3.27</td>\n",
       "      <td>0.41</td>\n",
       "      <td>1.87</td>\n",
       "      <td>0.656716</td>\n",
       "    </tr>\n",
       "    <tr>\n",
       "      <th>4</th>\n",
       "      <td>2018-05-01</td>\n",
       "      <td>2018-06-12</td>\n",
       "      <td>2日开盘价持续下跌-1120-rfc</td>\n",
       "      <td>2.02</td>\n",
       "      <td>1.43</td>\n",
       "      <td>0.40</td>\n",
       "      <td>1.03</td>\n",
       "      <td>0.231343</td>\n",
       "    </tr>\n",
       "    <tr>\n",
       "      <th>...</th>\n",
       "      <td>...</td>\n",
       "      <td>...</td>\n",
       "      <td>...</td>\n",
       "      <td>...</td>\n",
       "      <td>...</td>\n",
       "      <td>...</td>\n",
       "      <td>...</td>\n",
       "      <td>...</td>\n",
       "    </tr>\n",
       "    <tr>\n",
       "      <th>9643</th>\n",
       "      <td>2021-04-08</td>\n",
       "      <td>2021-05-24</td>\n",
       "      <td>2日开盘价持续下跌-1230-knnc</td>\n",
       "      <td>-1.67</td>\n",
       "      <td>-1.51</td>\n",
       "      <td>0.67</td>\n",
       "      <td>1.78</td>\n",
       "      <td>0.626866</td>\n",
       "    </tr>\n",
       "    <tr>\n",
       "      <th>9644</th>\n",
       "      <td>2021-04-08</td>\n",
       "      <td>2021-05-24</td>\n",
       "      <td>2日开盘价持续下跌-1230-lr</td>\n",
       "      <td>-2.18</td>\n",
       "      <td>-1.34</td>\n",
       "      <td>0.00</td>\n",
       "      <td>1.55</td>\n",
       "      <td>0.723881</td>\n",
       "    </tr>\n",
       "    <tr>\n",
       "      <th>9645</th>\n",
       "      <td>2021-04-08</td>\n",
       "      <td>2021-05-24</td>\n",
       "      <td>2日开盘价持续下跌-1230-rfc</td>\n",
       "      <td>-6.01</td>\n",
       "      <td>-4.67</td>\n",
       "      <td>0.50</td>\n",
       "      <td>1.33</td>\n",
       "      <td>0.231343</td>\n",
       "    </tr>\n",
       "    <tr>\n",
       "      <th>9646</th>\n",
       "      <td>2021-04-08</td>\n",
       "      <td>2021-05-24</td>\n",
       "      <td>2日开盘价持续下跌-1230-xgb</td>\n",
       "      <td>-4.62</td>\n",
       "      <td>-3.12</td>\n",
       "      <td>1.00</td>\n",
       "      <td>1.59</td>\n",
       "      <td>0.462687</td>\n",
       "    </tr>\n",
       "    <tr>\n",
       "      <th>9647</th>\n",
       "      <td>2021-04-08</td>\n",
       "      <td>2021-05-24</td>\n",
       "      <td>benchmark</td>\n",
       "      <td>-2.18</td>\n",
       "      <td>-1.34</td>\n",
       "      <td>0.00</td>\n",
       "      <td>1.55</td>\n",
       "      <td>0.723881</td>\n",
       "    </tr>\n",
       "  </tbody>\n",
       "</table>\n",
       "<p>9648 rows × 8 columns</p>\n",
       "</div>"
      ],
      "text/plain": [
       "     start_date   end_date                model  annual_return_sp  \\\n",
       "0    2018-05-01 2018-06-12  2日开盘价持续下跌-1120-bagc              3.41   \n",
       "1    2018-05-01 2018-06-12   2日开盘价持续下跌-1120-dtc              3.41   \n",
       "2    2018-05-01 2018-06-12  2日开盘价持续下跌-1120-knnc             -0.28   \n",
       "3    2018-05-01 2018-06-12    2日开盘价持续下跌-1120-lr              3.41   \n",
       "4    2018-05-01 2018-06-12   2日开盘价持续下跌-1120-rfc              2.02   \n",
       "...         ...        ...                  ...               ...   \n",
       "9643 2021-04-08 2021-05-24  2日开盘价持续下跌-1230-knnc             -1.67   \n",
       "9644 2021-04-08 2021-05-24    2日开盘价持续下跌-1230-lr             -2.18   \n",
       "9645 2021-04-08 2021-05-24   2日开盘价持续下跌-1230-rfc             -6.01   \n",
       "9646 2021-04-08 2021-05-24   2日开盘价持续下跌-1230-xgb             -4.62   \n",
       "9647 2021-04-08 2021-05-24            benchmark             -2.18   \n",
       "\n",
       "      sharpe_ratio_sp  win_rate_sp  pc_ratio_sp   sp_rank  \n",
       "0                3.27         0.41         1.87  0.656716  \n",
       "1                3.27         0.41         1.87  0.656716  \n",
       "2               -0.35         0.25         1.05  0.074627  \n",
       "3                3.27         0.41         1.87  0.656716  \n",
       "4                1.43         0.40         1.03  0.231343  \n",
       "...               ...          ...          ...       ...  \n",
       "9643            -1.51         0.67         1.78  0.626866  \n",
       "9644            -1.34         0.00         1.55  0.723881  \n",
       "9645            -4.67         0.50         1.33  0.231343  \n",
       "9646            -3.12         1.00         1.59  0.462687  \n",
       "9647            -1.34         0.00         1.55  0.723881  \n",
       "\n",
       "[9648 rows x 8 columns]"
      ]
     },
     "execution_count": 116,
     "metadata": {},
     "output_type": "execute_result"
    }
   ],
   "source": [
    "# 测试\n",
    "# signal_input['start_date'] = pd.to_datetime(signal_input.start_date, format = r'%Y%m%d', errors = 'ignore') \n",
    "\n",
    "signal_input_roll.drop(labels = 'Unnamed: 0',axis = 1, inplace = True)\n",
    "signal_input_roll.reset_index(drop = True)\n",
    "signal_input.drop(labels = 'Unnamed: 0',axis = 1, inplace = True)\n",
    "signal_input.reset_index(drop = True)\n"
   ]
  },
  {
   "cell_type": "code",
   "execution_count": null,
   "metadata": {},
   "outputs": [],
   "source": []
  },
  {
   "cell_type": "code",
   "execution_count": 117,
   "metadata": {},
   "outputs": [
    {
     "data": {
      "text/plain": [
       "133   2018-05-09\n",
       "200   2018-05-16\n",
       "267   2018-05-23\n",
       "334   2018-05-30\n",
       "401   2018-06-06\n",
       "468   2018-06-13\n",
       "535   2018-06-21\n",
       "602   2018-06-28\n",
       "669   2018-07-05\n",
       "736   2018-07-12\n",
       "Name: start_date, dtype: datetime64[ns]"
      ]
     },
     "execution_count": 117,
     "metadata": {},
     "output_type": "execute_result"
    }
   ],
   "source": [
    "# 正确\n",
    "list_ = list(signal_input_roll.rolling(window = 10,min_periods = 10)['start_date'])[10:]\n",
    "list_[0]\n",
    "# signal_input.set_index('start_date',inplace = False).loc[list_[0]]"
   ]
  },
  {
   "cell_type": "code",
   "execution_count": 95,
   "metadata": {},
   "outputs": [],
   "source": [
    "def get_model(x,window):\n",
    "    def get_value(m):\n",
    "        value = m['sharpe_ratio_sp'] - m[m['model'] == 'benchmark']['sharpe_ratio_sp'].iat[0] # 返回一个序列\n",
    "        return value\n",
    "\n",
    "    def get_lable(n):\n",
    "        if n >= 0:\n",
    "            return True\n",
    "        else: \n",
    "            return False\n",
    "    \n",
    "    list_ = list(x.rolling(window = window,min_periods = window)['start_date'])[window:]    \n",
    "    model_list = []\n",
    "    for i in range(len(list_)):\n",
    "        signal_input = x.set_index('start_date',inplace = False).loc[list_[i]]\n",
    "        signal_input['value'] = list(x.groupby('start_date').apply(get_value)) # 转为list\n",
    "        signal_input['lable'] = list(signal_input['value'].apply(get_lable))\n",
    "        signal_input.loc[:,'value'] = signal_input.transform({'value' : lambda x : np.square(x)})\n",
    "        # input_data.groupby(['model','lable']).sum().apply(get_loss)\n",
    "        input_filter = signal_input.groupby(['model','lable']).agg({'value' : 'sum'})\n",
    "        input_filter.drop(input_filter.tail(1).index,inplace=True) # 舍去benchmark\n",
    "        input_filter['loss'] = [input_filter.loc[model].diff()['value'].iat[1] for model in list(input_filter.index.get_level_values(0))]\n",
    "        model_list  = list(input_filter['loss'].nlargest(10).index.get_level_values(0).drop_duplicates())\n",
    "    model_list = model_list.append(model_list)"
   ]
  },
  {
   "cell_type": "code",
   "execution_count": 210,
   "metadata": {},
   "outputs": [
    {
     "name": "stdout",
     "output_type": "stream",
     "text": [
      "1340\n"
     ]
    },
    {
     "data": {
      "text/plain": [
       "2日开盘价持续下跌-1131-rfc     134\n",
       "2日开盘价持续下跌-1131-xgb     130\n",
       "2日开盘价持续下跌-1131-knnc    128\n",
       "2日开盘价持续下跌-1131-dtc     122\n",
       "2日开盘价持续下跌-1133-bagc     98\n",
       "2日开盘价持续下跌-1121-rfc      92\n",
       "2日开盘价持续下跌-1132-knnc     67\n",
       "2日开盘价持续下跌-1131-lr       65\n",
       "2日开盘价持续下跌-1133-knnc     59\n",
       "2日开盘价持续下跌-1122-knnc     58\n",
       "2日开盘价持续下跌-1222-knnc     55\n",
       "2日开盘价持续下跌-1122-bagc     43\n",
       "2日开盘价持续下跌-1132-xgb      36\n",
       "2日开盘价持续下跌-1120-knnc     30\n",
       "2日开盘价持续下跌-1122-rfc      29\n",
       "2日开盘价持续下跌-1132-dtc      27\n",
       "2日开盘价持续下跌-1221-dtc      25\n",
       "2日开盘价持续下跌-1130-xgb      25\n",
       "2日开盘价持续下跌-1120-xgb      25\n",
       "2日开盘价持续下跌-1121-xgb      14\n",
       "2日开盘价持续下跌-1221-xgb      11\n",
       "2日开盘价持续下跌-1222-bagc     10\n",
       "2日开盘价持续下跌-1221-knnc     10\n",
       "2日开盘价持续下跌-1132-bagc     10\n",
       "2日开盘价持续下跌-1121-bagc      7\n",
       "2日开盘价持续下跌-1122-dtc       6\n",
       "2日开盘价持续下跌-1122-xgb       6\n",
       "2日开盘价持续下跌-1121-dtc       6\n",
       "2日开盘价持续下跌-1132-rfc       5\n",
       "2日开盘价持续下跌-1133-dtc       5\n",
       "2日开盘价持续下跌-1130-dtc       1\n",
       "2日开盘价持续下跌-1121-knnc      1\n",
       "Name: model, dtype: int64"
      ]
     },
     "execution_count": 210,
     "metadata": {},
     "output_type": "execute_result"
    }
   ],
   "source": [
    "# 正确\n",
    "\n",
    "# signal_input_roll.drop(labels = 'Unnamed: 0',axis = 1, inplace = True)\n",
    "signal_input_roll.reset_index(drop = True)\n",
    "# signal_input.drop(labels = 'Unnamed: 0',axis = 1, inplace = True)\n",
    "signal_input.reset_index(drop = True)\n",
    "\n",
    "def get_value(m):\n",
    "    value = m['sharpe_ratio_sp'] - m[m['model'] == 'benchmark']['sharpe_ratio_sp'].iat[0] # 返回一个序列\n",
    "    return value\n",
    "\n",
    "def get_lable(n):\n",
    "    if n >= 0:\n",
    "        return True\n",
    "    else: \n",
    "        return False\n",
    "    \n",
    "list_ = list(signal_input_roll.rolling(window = 10,min_periods = 10)['start_date'])[10:]    \n",
    "model_list = pd.DataFrame()\n",
    "list1 = []\n",
    "for i in range(len(list_)):\n",
    "    list1 = list1 + list(list_[i])\n",
    "    x = signal_input.set_index('start_date',inplace = False).loc[list1]\n",
    "    x['value'] = list(x.groupby('end_date').apply(get_value)) # 转为list\n",
    "    x['lable'] = list(x['value'].apply(get_lable))\n",
    "    x.loc[:,'value'] = x.transform({'value' : lambda x : np.square(x)})\n",
    "    # input_data.groupby(['model','lable']).sum().apply(get_loss)\n",
    "    input_filter = x.groupby(['model','lable']).agg({'value' : 'sum'})\n",
    "    input_filter.drop(input_filter.tail(1).index,inplace=True)\n",
    "    input_filter = input_filter.unstack(fill_value = 0).loc[:,'value']\n",
    "    input_filter.loc[:,'loss'] = input_filter[True] - input_filter[False]\n",
    "    model_filter = input_filter.nlargest(10,'loss',keep = 'first')\n",
    "    #model_list  = list(input_filter['loss'].nlargest(10).index.get_level_values(0).drop_duplicates())\n",
    "    model_list = model_list.append(model_filter)\n",
    "    \n",
    "# 统计频次\n",
    "print(len(list1))\n",
    "pd.Series(model_list.index).value_counts()"
   ]
  },
  {
   "cell_type": "code",
   "execution_count": 209,
   "metadata": {},
   "outputs": [
    {
     "data": {
      "text/plain": [
       "143"
      ]
     },
     "execution_count": 209,
     "metadata": {},
     "output_type": "execute_result"
    }
   ],
   "source": [
    "len(list(set(list1)))"
   ]
  },
  {
   "cell_type": "code",
   "execution_count": null,
   "metadata": {},
   "outputs": [],
   "source": [
    "# 更改为链式方法\n"
   ]
  },
  {
   "cell_type": "code",
   "execution_count": 177,
   "metadata": {},
   "outputs": [],
   "source": [
    "df = pd.DataFrame({'foo': ['one', 'one', 'one', 'two', 'two',\n",
    "                           'two'],\n",
    "                   'bar': ['A', 'B', 'C', 'A', 'B', 'C'],\n",
    "                   'baz': [1, 2, 3, 4, 5, 6],\n",
    "                   'zoo': ['x', 'y', 'z', 'q', 'w', 't']})"
   ]
  },
  {
   "cell_type": "code",
   "execution_count": 178,
   "metadata": {},
   "outputs": [
    {
     "data": {
      "text/plain": [
       "Index(['foo', 'bar', 'baz', 'zoo'], dtype='object')"
      ]
     },
     "execution_count": 178,
     "metadata": {},
     "output_type": "execute_result"
    }
   ],
   "source": [
    "df.columns"
   ]
  },
  {
   "cell_type": "code",
   "execution_count": null,
   "metadata": {},
   "outputs": [],
   "source": [
    "def get_loss(window,period):\n",
    "        def get_value(x):\n",
    "            value = x['sharpe_ratio_sp'] - x[x['model'] == 'benchmark']['sharpe_ratio_sp'].iat[0] # 返回一个序列\n",
    "            return value\n",
    "        def get_lable(x):\n",
    "            if x >= 0:\n",
    "                return True\n",
    "            else: \n",
    "                return False\n",
    "        input_data['value'] = list(input_data.groupby('start_date').apply(get_value)) # 转为list\n",
    "        input_data['lable'] = list(input_data['value'].apply(get_lable))\n",
    "        input_data.loc[:,'value'] = input_data.transform({'value' : lambda x : np.square(x)})\n",
    "        # input_data.groupby(['model','lable']).sum().apply(get_loss)\n",
    "        input_filter = input_data.groupby(['model','lable']).agg({'value' : 'sum'})\n",
    "        input_filter.drop(input_filter.tail(1).index,inplace=True)\n",
    "        input_filter['loss'] = [input_filter.loc[model].diff()['value'].iat[1] for model in list(input_filter.index.get_level_values(0))]\n",
    "        input_filter['loss'].nlargest(10)\n",
    "    signal_input.rolling(window = window).apply()"
   ]
  },
  {
   "cell_type": "code",
   "execution_count": null,
   "metadata": {},
   "outputs": [],
   "source": [
    "# 损失函数\n",
    "\n",
    "def get_value(x):\n",
    "    value = x['sharpe_ratio_sp'] - x[x['model'] == 'benchmark']['sharpe_ratio_sp'].iat[0] # 返回一个序列\n",
    "    return value\n",
    "def get_lable(x):\n",
    "    if x >= 0:\n",
    "        return True\n",
    "    else: \n",
    "        return False\n",
    "input_data['value'] = list(input_data.groupby('start_date').apply(get_value)) # 转为list\n",
    "input_data['lable'] = list(input_data['value'].apply(get_lable))\n",
    "input_data.loc[:,'value'] = input_data.transform({'value' : lambda x : np.square(x)})\n",
    "# input_data.groupby(['model','lable']).sum().apply(get_loss)\n",
    "input_filter = input_data.groupby(['model','lable']).agg({'value' : 'sum'})\n",
    "input_filter.drop(input_filter.tail(1).index,inplace=True)\n",
    "input_filter['loss'] = [input_filter.loc[model].diff()['value'].iat[1] for model in list(input_filter.index.get_level_values(0))]\n",
    "list(input_filter['loss'].nlargest(10).index.get_level_values(0).drop_duplicates())\n"
   ]
  },
  {
   "cell_type": "code",
   "execution_count": null,
   "metadata": {},
   "outputs": [],
   "source": []
  },
  {
   "cell_type": "code",
   "execution_count": null,
   "metadata": {},
   "outputs": [],
   "source": [
    "get_model(input_data)"
   ]
  },
  {
   "cell_type": "code",
   "execution_count": null,
   "metadata": {},
   "outputs": [],
   "source": []
  }
 ],
 "metadata": {
  "interpreter": {
   "hash": "6e41dd01fe67b3b87d0ee4f890a1dc8013ce26741ca91638f461e94c1bd39bff"
  },
  "kernelspec": {
   "display_name": "Python 3.8.8 64-bit ('base': conda)",
   "name": "python3"
  },
  "language_info": {
   "codemirror_mode": {
    "name": "ipython",
    "version": 3
   },
   "file_extension": ".py",
   "mimetype": "text/x-python",
   "name": "python",
   "nbconvert_exporter": "python",
   "pygments_lexer": "ipython3",
   "version": "3.8.8"
  },
  "orig_nbformat": 4
 },
 "nbformat": 4,
 "nbformat_minor": 2
}