{
 "cells": [
  {
   "cell_type": "code",
   "execution_count": null,
   "source": [
    "import pandas as pd \n",
    "import seaborn as sns\n",
    "import numpy as np\n",
    "import  matplotlib.pyplot as plt"
   ],
   "outputs": [],
   "metadata": {}
  },
  {
   "cell_type": "code",
   "execution_count": null,
   "source": [
    "# 导入数据\n",
    "input_data = pd.read_excel(r'/Users/dylan/Github repo/DataBase/signal_process/benchmark_result-30_5.xlsx',sheet_name = 'Sheet1')\n",
    "signal_input = pd.read_excel(r'/Users/dylan/Github repo/DataBase/signal_process/benchmark_result-30_5.xlsx',sheet_name = 'Sheet3')\n",
    "\n",
    "signal_input_roll = signal_input[signal_input['model'] == 'benchmark']"
   ],
   "outputs": [],
   "metadata": {}
  },
  {
   "cell_type": "code",
   "execution_count": null,
   "source": [
    "# 数据清理\n",
    "signal_input_roll.drop(labels = 'Unnamed: 0',axis = 1, inplace = True)\n",
    "signal_input_roll.reset_index(drop = True)\n",
    "signal_input.drop(labels = 'Unnamed: 0',axis = 1, inplace = True)\n",
    "signal_input.reset_index(drop = True)"
   ],
   "outputs": [],
   "metadata": {}
  },
  {
   "cell_type": "code",
   "execution_count": null,
   "source": [
    "# 函数定义\n",
    "def get_value(m):\n",
    "    if \n",
    "    value = m['sharpe_ratio_sp'] - m[m['model'] == 'benchmark']['sharpe_ratio_sp'].iat[0] # 返回一个序列\n",
    "    return value\n",
    "\n",
    "def get_lable(n):\n",
    "    if n >= 0:\n",
    "        return True\n",
    "    else: \n",
    "        return False\n"
   ],
   "outputs": [],
   "metadata": {}
  },
  {
   "cell_type": "code",
   "execution_count": null,
   "source": [
    "# 进行无加权平均回溯\n",
    "# 得到整个验证期的model_list\n",
    "list_ = list(signal_input_roll.rolling(window = 10,min_periods = 10)['start_date'])[10:]    \n",
    "model_list = pd.DataFrame()\n",
    "list1 = []\n",
    "for i in range(len(list_)):\n",
    "    list1 = list1 + list(list_[i])\n",
    "    x = signal_input.set_index('start_date',inplace = False).loc[list1]\n",
    "    x['value'] = list(x.groupby('end_date').apply(get_value)) # 转为list\n",
    "    x['lable'] = list(x['value'].apply(get_lable))\n",
    "    x.loc[:,'value'] = x.transform({'value' : lambda x : np.square(x) if x >= 0 else (-np.square(x))})\n",
    "    signal_input_value = x\n",
    "    # input_data.groupby(['model','lable']).sum().apply(get_loss)\n",
    "    input_filter = signal_input_value.groupby(['model','lable']).agg({'value' : 'sum'})\n",
    "    input_filter.drop(input_filter.tail(1).index,inplace=True)\n",
    "    input_filter = input_filter.unstack(fill_value = 0).loc[:,'value']\n",
    "    input_filter.loc[:,'loss'] = input_filter[True] - input_filter[False]\n",
    "    model_filter = input_filter.nlargest(10,'loss',keep = 'first')\n",
    "    # model_list  = list(input_filter['loss'].nlargest(10).index.get_level_values(0).drop_duplicates())\n",
    "    model_list = model_list.append(model_filter)\n",
    "\n",
    "# \b更改为链式写法\n",
    "\n"
   ],
   "outputs": [],
   "metadata": {}
  },
  {
   "cell_type": "code",
   "execution_count": null,
   "source": [
    "# 统计频次\n",
    "print(len(list1))\n",
    "pd.Series(model_list.index).value_counts()"
   ],
   "outputs": [],
   "metadata": {}
  },
  {
   "cell_type": "code",
   "execution_count": 67,
   "source": [
    "# 进行指数加权平均回溯\n",
    "\n",
    "list_ = list(signal_input_roll.rolling(window = 10,min_periods = 10)['start_date'])[10:]    \n",
    "model_list = pd.DataFrame()\n",
    "list1 = []\n",
    "input_filter_all = pd.DataFrame()\n",
    "all_model = signal_input.model.drop_duplicates()\n",
    "for i in range(len(list_)):\n",
    "    list1 = list1 + list(list_[i])\n",
    "    x = signal_input.set_index('start_date',inplace = False).loc[list1]\n",
    "    x['value'] = list(x.groupby('end_date').apply(get_value)) # 转为list\n",
    "    x['lable'] = list(x['value'].apply(get_lable))\n",
    "    x.loc[:,'value'] = x.transform({'value' : lambda x : np.square(x) if x >= 0 else (-np.square(x))})\n",
    "    # input_data.groupby(['model','lable']).sum().apply(get_loss)\n",
    "    # 指数加权平均\n",
    "    # input_filter = x.groupby(['model','lable']).emw(alpha = 0.9, adjust = False)\n",
    "    input_filter = pd.DataFrame()\n",
    "    for model in all_model:\n",
    "        x[x.model == model].loc[:,'value'] = x[x.model == model].value.ewm(alpha = 0.6, adjust = False).mean()\n",
    "        input_filter = input_filter.append(x[x.model == model])\n",
    "    #input_filter.drop(input_filter.tail(1).index,inplace=True)\n",
    "    #input_filter = input_filter.unstack(fill_value = 0).loc[:,'value']\n",
    "    #input_filter.loc[:,'loss'] = input_filter[True] - input_filter[False]\n",
    "    #input_filter_all = input_filter_all.append(input_filter)\n",
    "    # model_list  = list(input_filter['loss'].nlargest(10).index.get_level_values(0).drop_duplicates())\n",
    "    break\n",
    "\n",
    "input_filter.head\n",
    "\t\t"
   ],
   "outputs": [
    {
     "output_type": "stream",
     "name": "stderr",
     "text": [
      "/Users/dylan/opt/anaconda3/lib/python3.8/site-packages/pandas/core/indexing.py:1676: SettingWithCopyWarning: \n",
      "A value is trying to be set on a copy of a slice from a DataFrame.\n",
      "Try using .loc[row_indexer,col_indexer] = value instead\n",
      "\n",
      "See the caveats in the documentation: https://pandas.pydata.org/pandas-docs/stable/user_guide/indexing.html#returning-a-view-versus-a-copy\n",
      "  self._setitem_single_column(ilocs[0], value, pi)\n"
     ]
    },
    {
     "output_type": "execute_result",
     "data": {
      "text/plain": [
       "<bound method NDFrame.head of              end_date                model  annual_return_sp  sharpe_ratio_sp  \\\n",
       "start_date                                                                      \n",
       "2018-05-09 2018-06-20  2日开盘价持续下跌-1120-bagc              0.12            -0.05   \n",
       "2018-05-16 2018-06-27  2日开盘价持续下跌-1120-bagc             -4.59            -3.46   \n",
       "2018-05-23 2018-07-04  2日开盘价持续下跌-1120-bagc             -7.67            -4.82   \n",
       "2018-05-30 2018-07-11  2日开盘价持续下跌-1120-bagc             -2.54            -1.39   \n",
       "2018-06-06 2018-07-18  2日开盘价持续下跌-1120-bagc             -2.01            -1.07   \n",
       "...               ...                  ...               ...              ...   \n",
       "2018-06-13 2018-07-25            benchmark             -2.63            -1.10   \n",
       "2018-06-21 2018-08-01            benchmark             -1.64            -0.71   \n",
       "2018-06-28 2018-08-08            benchmark              2.22             0.97   \n",
       "2018-07-05 2018-08-15            benchmark              3.44             1.51   \n",
       "2018-07-12 2018-08-22            benchmark              0.00             0.00   \n",
       "\n",
       "            win_rate_sp  pc_ratio_sp   sp_rank   value  lable  \n",
       "start_date                                                     \n",
       "2018-05-09         0.44         1.56  0.798507  7.0756   True  \n",
       "2018-05-16         0.46         0.87  0.798507  3.1329   True  \n",
       "2018-05-23         0.38         0.73  0.552239  1.7689   True  \n",
       "2018-05-30         0.38         0.99  0.835821  3.1684   True  \n",
       "2018-06-06         0.38         1.12  0.843284  6.9696   True  \n",
       "...                 ...          ...       ...     ...    ...  \n",
       "2018-06-13         0.00         1.02  0.320896  0.0000   True  \n",
       "2018-06-21         0.00         1.09  0.350746  0.0000   True  \n",
       "2018-06-28         0.00         1.09  0.380597  0.0000   True  \n",
       "2018-07-05         0.00         1.18  0.425373  0.0000   True  \n",
       "2018-07-12         0.00         1.23  0.537313  0.0000   True  \n",
       "\n",
       "[670 rows x 9 columns]>"
      ]
     },
     "metadata": {},
     "execution_count": 67
    }
   ],
   "metadata": {}
  },
  {
   "cell_type": "markdown",
   "source": [],
   "metadata": {}
  },
  {
   "cell_type": "code",
   "execution_count": null,
   "source": [],
   "outputs": [],
   "metadata": {}
  }
 ],
 "metadata": {
  "orig_nbformat": 4,
  "language_info": {
   "name": "python"
  }
 },
 "nbformat": 4,
 "nbformat_minor": 2
}