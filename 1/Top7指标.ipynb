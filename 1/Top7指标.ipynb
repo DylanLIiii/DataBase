{
 "cells": [
  {
   "cell_type": "code",
   "execution_count": 2,
   "metadata": {},
   "outputs": [],
   "source": [
    "import pandas as pd \n",
    "import seaborn as sns\n",
    "import matplotlib.pyplot as plt\n",
    "import matplotlib\n",
    "\n",
    "input_data = pd.read_excel(r'/Users/dylan/DataBase/top7-sharpe_ratio_rank-30.xlsx')\n",
    "signal_result = pd.read_excel(r'/Users/dylan/DataBase/signal_process/benchmark_result-30_5.xlsx')\n"
   ]
  },
  {
   "cell_type": "code",
   "execution_count": 3,
   "metadata": {},
   "outputs": [
    {
     "data": {
      "text/html": [
       "<div>\n",
       "<style scoped>\n",
       "    .dataframe tbody tr th:only-of-type {\n",
       "        vertical-align: middle;\n",
       "    }\n",
       "\n",
       "    .dataframe tbody tr th {\n",
       "        vertical-align: top;\n",
       "    }\n",
       "\n",
       "    .dataframe thead th {\n",
       "        text-align: right;\n",
       "    }\n",
       "</style>\n",
       "<table border=\"1\" class=\"dataframe\">\n",
       "  <thead>\n",
       "    <tr style=\"text-align: right;\">\n",
       "      <th></th>\n",
       "      <th>model</th>\n",
       "      <th>signal</th>\n",
       "    </tr>\n",
       "  </thead>\n",
       "  <tbody>\n",
       "    <tr>\n",
       "      <th>0</th>\n",
       "      <td>2日开盘价持续下跌-1121-bagc</td>\n",
       "      <td>0.15</td>\n",
       "    </tr>\n",
       "    <tr>\n",
       "      <th>1</th>\n",
       "      <td>2日开盘价持续下跌-1220-xgb</td>\n",
       "      <td>0.15</td>\n",
       "    </tr>\n",
       "    <tr>\n",
       "      <th>2</th>\n",
       "      <td>2日开盘价持续下跌-1220-rfc</td>\n",
       "      <td>0.15</td>\n",
       "    </tr>\n",
       "    <tr>\n",
       "      <th>3</th>\n",
       "      <td>2日开盘价持续下跌-1220-dtc</td>\n",
       "      <td>0.15</td>\n",
       "    </tr>\n",
       "    <tr>\n",
       "      <th>4</th>\n",
       "      <td>2日开盘价持续下跌-1121-xgb</td>\n",
       "      <td>0.13</td>\n",
       "    </tr>\n",
       "    <tr>\n",
       "      <th>...</th>\n",
       "      <td>...</td>\n",
       "      <td>...</td>\n",
       "    </tr>\n",
       "    <tr>\n",
       "      <th>163</th>\n",
       "      <td>2日开盘价持续下跌-1230-knnc</td>\n",
       "      <td>0.14</td>\n",
       "    </tr>\n",
       "    <tr>\n",
       "      <th>164</th>\n",
       "      <td>2日开盘价持续下跌-1220-bagc</td>\n",
       "      <td>0.17</td>\n",
       "    </tr>\n",
       "    <tr>\n",
       "      <th>165</th>\n",
       "      <td>2日开盘价持续下跌-1132-bagc</td>\n",
       "      <td>0.15</td>\n",
       "    </tr>\n",
       "    <tr>\n",
       "      <th>166</th>\n",
       "      <td>2日开盘价持续下跌-1131-bagc</td>\n",
       "      <td>0.17</td>\n",
       "    </tr>\n",
       "    <tr>\n",
       "      <th>167</th>\n",
       "      <td>2日开盘价持续下跌-1221-bagc</td>\n",
       "      <td>0.14</td>\n",
       "    </tr>\n",
       "  </tbody>\n",
       "</table>\n",
       "<p>168 rows × 2 columns</p>\n",
       "</div>"
      ],
      "text/plain": [
       "                   model  signal\n",
       "0    2日开盘价持续下跌-1121-bagc    0.15\n",
       "1     2日开盘价持续下跌-1220-xgb    0.15\n",
       "2     2日开盘价持续下跌-1220-rfc    0.15\n",
       "3     2日开盘价持续下跌-1220-dtc    0.15\n",
       "4     2日开盘价持续下跌-1121-xgb    0.13\n",
       "..                   ...     ...\n",
       "163  2日开盘价持续下跌-1230-knnc    0.14\n",
       "164  2日开盘价持续下跌-1220-bagc    0.17\n",
       "165  2日开盘价持续下跌-1132-bagc    0.15\n",
       "166  2日开盘价持续下跌-1131-bagc    0.17\n",
       "167  2日开盘价持续下跌-1221-bagc    0.14\n",
       "\n",
       "[168 rows x 2 columns]"
      ]
     },
     "execution_count": 3,
     "metadata": {},
     "output_type": "execute_result"
    }
   ],
   "source": [
    "input_model = input_data['model_selected'].shift(-1).dropna()\n",
    "input_model_df = pd.DataFrame()\n",
    "for i in range(len(input_model)): \n",
    "    # 将字符串转换为字典,并转化为dataframe\n",
    "    new_df = pd.DataFrame.from_dict(eval(input_model.iloc[i]),orient = 'index',columns = ['signal'])\n",
    "    input_model_df = input_model_df.append(new_df)\n",
    "input_model_df = input_model_df.reset_index().rename(columns = {'index' : 'model'})\n",
    "input_model_df\n"
   ]
  },
  {
   "cell_type": "code",
   "execution_count": 12,
   "metadata": {},
   "outputs": [
    {
     "data": {
      "image/png": "[encoded data removed]",
      "text/plain": [
       "<Figure size 1152x720 with 1 Axes>"
      ]
     },
     "metadata": {
      "needs_background": "light"
     },
     "output_type": "display_data"
    }
   ],
   "source": [
    "# 频次统计\n",
    "df = input_model_df.loc[:,'model'].value_counts().to_frame()\n",
    "df.reset_index(level=0, inplace=True)\n",
    "fig = plt.gcf()\n",
    "fig.set_size_inches( 16, 10)\n",
    "\n",
    "image = sns.barplot(data = df.groupby(by = 'model').agg('count'), x = [1,2,3,4,5,6,7],y = 'index' )\n",
    "image.set_xlabel('Number of occurrences')\n",
    "image.set_ylabel('times')\n",
    "\n",
    "for x,y in zip([1,2,3,4,5,6,7],list(df.groupby(by = 'model').agg('count')['index'])):\n",
    "    image.text(x-1,y+0.2,y) # 坐标轴的位置进行了重新排序\n",
    "œ\n",
    "\n"
   ]
  },
  {
   "cell_type": "code",
   "execution_count": 205,
   "metadata": {},
   "outputs": [
    {
     "data": {
      "text/plain": [
       "model     57\n",
       "signal    57\n",
       "dtype: int64"
      ]
     },
     "execution_count": 205,
     "metadata": {},
     "output_type": "execute_result"
    }
   ],
   "source": [
    "# 涉及模型\n",
    "input_model_df.drop_duplicates('model').count()\n"
   ]
  },
  {
   "cell_type": "code",
   "execution_count": 206,
   "metadata": {},
   "outputs": [
    {
     "data": {
      "text/plain": [
       "model     57\n",
       "signal    57\n",
       "dtype: int64"
      ]
     },
     "execution_count": 206,
     "metadata": {},
     "output_type": "execute_result"
    }
   ],
   "source": [
    "# 涉及模型的数量\n",
    "input_model_df.drop_duplicates('model').count()"
   ]
  },
  {
   "cell_type": "code",
   "execution_count": 31,
   "metadata": {},
   "outputs": [
    {
     "data": {
      "image/png": "[encoded data removed]",
      "text/plain": [
       "<Figure size 1080x720 with 1 Axes>"
      ]
     },
     "metadata": {
      "needs_background": "light"
     },
     "output_type": "display_data"
    }
   ],
   "source": [
    "# 每期替换\n",
    "list1 = list(input_data['start_date'])\n",
    "del list1[-1]\n",
    "list2 = range(int(len(input_model_df)/7))\n",
    "#input_data.insert(input_data.shape[1],'count',0)\n",
    "for i,x in zip(list2, list1): \n",
    "    if i*7 == len(input_model_df) - 7:\n",
    "        break\n",
    "    i = 7*i\n",
    "    filter = input_model_df.iloc[i:i+7].append(input_model_df.iloc[i+7:i+14])\n",
    "    filter = filter.drop_duplicates('model')\n",
    "    count = 7 - (14 - filter.count())\n",
    "    input_data.loc[input_data['start_date'] == x,'count'] = int(count.iloc[0])\n",
    "input_data['count'] = input_data['count'].shift(1)\n",
    "plt.figure(figsize=(15, 10))\n",
    "image = sns.barplot(data = input_data.groupby(by = 'count').agg('count'),x = [0,2,3,4,5,6,7],y = 'start_date')\n",
    "\n",
    "image.set_ylabel('times')\n",
    "image.set_xlabel('count')\n",
    "input_data.groupby(by = 'count').agg('count')\n",
    "\n",
    "\n",
    "for x,y in zip(list(range(7)),list(input_data.groupby(by = 'count').agg('count')['start_date'])):\n",
    "    image.text(x,y+0.2,y) # 坐标轴的位置进行了重新排序\n",
    "\n",
    "\n"
   ]
  },
  {
   "cell_type": "code",
   "execution_count": null,
   "metadata": {},
   "outputs": [],
   "source": []
  },
  {
   "cell_type": "code",
   "execution_count": 216,
   "metadata": {},
   "outputs": [
    {
     "name": "stderr",
     "output_type": "stream",
     "text": [
      "<ipython-input-216-071436fd23d7>:19: SettingWithCopyWarning: \n",
      "A value is trying to be set on a copy of a slice from a DataFrame.\n",
      "Try using .loc[row_indexer,col_indexer] = value instead\n",
      "\n",
      "See the caveats in the documentation: https://pandas.pydata.org/pandas-docs/stable/user_guide/indexing.html#returning-a-view-versus-a-copy\n",
      "  model_mark['larger_now'] = 1\n",
      "<ipython-input-216-071436fd23d7>:21: SettingWithCopyWarning: \n",
      "A value is trying to be set on a copy of a slice from a DataFrame.\n",
      "Try using .loc[row_indexer,col_indexer] = value instead\n",
      "\n",
      "See the caveats in the documentation: https://pandas.pydata.org/pandas-docs/stable/user_guide/indexing.html#returning-a-view-versus-a-copy\n",
      "  model_mark['larger_now'] = 0\n"
     ]
    }
   ],
   "source": [
    "# 在验证期超过benchmark的比例\n",
    "list1 = list(range(int(len(input_model_df)/7)))\n",
    "list2 = list(input_data['end_date'])\n",
    "# del list2[0]\n",
    "model_df = pd.DataFrame()\n",
    "for i,x in zip(list1,list2) :\n",
    "        i = 7*i\n",
    "        filter = input_model_df.iloc[i:i+7]    \n",
    "        for model in filter['model']: \n",
    "                # modelmark可能为空\n",
    "                model_mark = signal_result[(signal_result['end_date'] == x) & (signal_result['model'] == model)]\n",
    "                #print(model_mark)\n",
    "                # benchmark可能为空\n",
    "                benchmark = signal_result[(signal_result['end_date'] == x) & (signal_result['model'] == 'benchmark')]\n",
    "                #print(benchmark)\n",
    "                if model_mark.empty or benchmark.empty :\n",
    "                        break\n",
    "                if model_mark['sharpe_ratio_sp'].iloc[0] >= benchmark['sharpe_ratio_sp'].iloc[0] :\n",
    "                        model_mark['larger_now'] = 1\n",
    "                else: \n",
    "                        model_mark['larger_now'] = 0\n",
    "                model_df = model_df.append(model_mark)\n",
    "        model_df = model_df.append(benchmark)\n",
    "# 观测数据\n",
    "model_df.count()\n",
    "model_df[model_df['larger_now'] == 1].count()\n",
    "#model_df[model_df['larger_now'] == 0].count()\n",
    "model_df.head(50)\n",
    "\n",
    "def get_large_ratio(x): \n",
    "        ratio = x[x == 1].count() / 7 \n",
    "        return ratio\n",
    "# 超过比例\n",
    "model_df['ratio_now'] = model_df.groupby('start_date')['larger_now'].transform(get_large_ratio)\n",
    "model_df.to_excel(r'/Users/dylan/DataBase/Top-7-model-ratio-now.xlsx')"
   ]
  },
  {
   "cell_type": "code",
   "execution_count": 228,
   "metadata": {},
   "outputs": [
    {
     "name": "stdout",
     "output_type": "stream",
     "text": [
      "['2018-07-25', '2018-09-05', '2018-10-25', '2018-12-06', '2019-01-21', '2019-03-11', '2019-04-23', '2019-06-10', '2019-07-22', '2019-09-02', '2019-10-22', '2019-12-03', '2020-01-15', '2020-03-05', '2020-04-17', '2020-06-03', '2020-07-17', '2020-08-28', '2020-10-19', '2020-11-30', '2021-01-12', '2021-03-02', '2021-04-14', '2021-05-31']\n"
     ]
    },
    {
     "name": "stderr",
     "output_type": "stream",
     "text": [
      "<ipython-input-228-a7ab115a878c>:20: SettingWithCopyWarning: \n",
      "A value is trying to be set on a copy of a slice from a DataFrame.\n",
      "Try using .loc[row_indexer,col_indexer] = value instead\n",
      "\n",
      "See the caveats in the documentation: https://pandas.pydata.org/pandas-docs/stable/user_guide/indexing.html#returning-a-view-versus-a-copy\n",
      "  model_mark['larger_next'] = 1\n",
      "<ipython-input-228-a7ab115a878c>:22: SettingWithCopyWarning: \n",
      "A value is trying to be set on a copy of a slice from a DataFrame.\n",
      "Try using .loc[row_indexer,col_indexer] = value instead\n",
      "\n",
      "See the caveats in the documentation: https://pandas.pydata.org/pandas-docs/stable/user_guide/indexing.html#returning-a-view-versus-a-copy\n",
      "  model_mark['larger_next'] = 0\n"
     ]
    }
   ],
   "source": [
    "\n",
    "# 在验证期超过benchmark的比例\n",
    "list1 = list(range(int(len(input_model_df)/7)))\n",
    "list2 = list(input_data['end_date'])\n",
    "del list2[0]\n",
    "print(list2)\n",
    "model_df = pd.DataFrame()\n",
    "for i,x in zip(list1,list2) :\n",
    "        i = 7*i\n",
    "        filter = input_model_df.iloc[i:i+7]    \n",
    "        for model in filter['model']: \n",
    "                # modelmark可能为空\n",
    "                model_mark = signal_result[(signal_result['end_date'] == x) & (signal_result['model'] == model)]\n",
    "                #print(model_mark)\n",
    "                # benchmark可能为空\n",
    "                benchmark = signal_result[(signal_result['end_date'] == x) & (signal_result['model'] == 'benchmark')]\n",
    "                #print(benchmark)\n",
    "                if model_mark.empty or benchmark.empty :\n",
    "                        break\n",
    "                if model_mark['sharpe_ratio_sp'].iloc[0] >= benchmark['sharpe_ratio_sp'].iloc[0] :\n",
    "                        model_mark['larger_next'] = 1\n",
    "                else: \n",
    "                        model_mark['larger_next'] = 0\n",
    "                model_df = model_df.append(model_mark)\n",
    "        model_df = model_df.append(benchmark)\n",
    "model_df.count()\n",
    "def get_large_ratio(x): \n",
    "        ratio = x[x == 1].count() / 7 \n",
    "        return ratio\n",
    "model_df['ratio_next'] = model_df.groupby('start_date')['larger_next'].transform(get_large_ratio)\n",
    "model_df.to_excel(r'/Users/dylan/DataBase/Top-7-model-ratio-next.xlsx')\n",
    "\n",
    "\n"
   ]
  },
  {
   "cell_type": "code",
   "execution_count": null,
   "metadata": {},
   "outputs": [],
   "source": []
  }
 ],
 "metadata": {
  "interpreter": {
   "hash": "6e41dd01fe67b3b87d0ee4f890a1dc8013ce26741ca91638f461e94c1bd39bff"
  },
  "kernelspec": {
   "display_name": "Python 3.8.8 64-bit ('base': conda)",
   "name": "python3"
  },
  "language_info": {
   "codemirror_mode": {
    "name": "ipython",
    "version": 3
   },
   "file_extension": ".py",
   "mimetype": "text/x-python",
   "name": "python",
   "nbconvert_exporter": "python",
   "pygments_lexer": "ipython3",
   "version": "3.8.8"
  },
  "orig_nbformat": 4
 },
 "nbformat": 4,
 "nbformat_minor": 2
}