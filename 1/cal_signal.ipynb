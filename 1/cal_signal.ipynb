{
 "cells": [
  {
   "cell_type": "code",
   "execution_count": 10,
   "metadata": {},
   "outputs": [
    {
     "data": {
      "text/plain": [
       "0       165.16\n",
       "1        66.85\n",
       "2        44.48\n",
       "3        37.81\n",
       "4        33.51\n",
       "         ...  \n",
       "2402    -17.14\n",
       "2401    -17.14\n",
       "2405    -17.14\n",
       "1808    -19.75\n",
       "2542    -21.74\n",
       "Name: Max_method, Length: 2654, dtype: float64"
      ]
     },
     "execution_count": 10,
     "metadata": {},
     "output_type": "execute_result"
    }
   ],
   "source": [
    "import pandas as pd\r\n",
    "import numpy as np\r\n",
    "import seaborn as sns\r\n",
    "import matplotlib.pyplot as plt\r\n",
    "\r\n",
    "input_data = pd.read_excel(r'D:\\Github repo\\DataBase\\signal_process\\50-ETF-signalout.xlsx')\r\n",
    "signal_input = pd.read_excel('D:\\Github repo\\DataBase\\signal_process\\signal_result-30 copy.xlsx') \r\n",
    "input_data.dropna(axis = 1, inplace= True)\r\n",
    "\r\n",
    "# 加权处理，取四分位数进行分权\r\n",
    "signal_input_quantile = signal_input[['annual_return_sp','win_rate_sp','pc_ratio_sp']].quantile([0.25,0.5,0.75])\r\n",
    "for col_name in ['annual_return_sp','win_rate_sp','pc_ratio_sp']:\r\n",
    "    def get_weight_group(x) :\r\n",
    "    # 加权处理函数\r\n",
    "        if x < signal_input_quantile[col_name].loc[0.25]: \r\n",
    "            return 1\r\n",
    "        elif signal_input_quantile[col_name].loc[0.25] < x  and  x < signal_input_quantile[col_name].loc[0.5]: \r\n",
    "            return 2 \r\n",
    "        elif signal_input_quantile[col_name].loc[0.5] < x and  x < signal_input_quantile[col_name].loc[0.75] : \r\n",
    "            return 3         \r\n",
    "        else : \r\n",
    "            return 4 \r\n",
    "    new_weighte_col_name = col_name + '_weight'\r\n",
    "    signal_input[new_weighte_col_name] = signal_input[col_name].map(get_weight_group)\r\n",
    "\r\n",
    "signal_input['Max_method'] = signal_input[['annual_return_sp','win_rate_sp','pc_ratio_sp']].sum(axis = 1)\r\n",
    "\r\n",
    "signal_input['Max_method'].sort_values(ascending = False)\r\n"
   ]
  },
  {
   "cell_type": "code",
   "execution_count": 11,
   "metadata": {},
   "outputs": [
    {
     "data": {
      "text/plain": [
       "' 当期相同则计算上期method\\nif len(signal_input_filter[\\'Max_method\\']) > 3:       \\n    signal_input_filter.sort_values(by=[\\'model\\',\\'start_date\\'],inplace=True) \\n    signal_input_filter[\\'Last_method\\'] = signal_input_filter[\\'Max_method\\'].shift(1) \\n    signal_output = signal_input_filter.nlargest(3,\\'Last_method\\',keep=\"first\")\\nelse:\\n    signal_output = signal_input_filter.sort_values(by=\"start_date\").shift(1)\\n\\n    signal_input_filter.sort_values(by=\\'start_date\\',inplace=True)\\n    signal_input_filter[\\'model_selected\\'] = signal_input_filter[\\'model\\'].shift(1)\\n    \\n    signal_input_filter.to_excel(\\'/Users/dylan/DataBase/signal_process/1.xlsx\\',index=False) '"
      ]
     },
     "execution_count": 11,
     "metadata": {},
     "output_type": "execute_result"
    }
   ],
   "source": [
    "\n",
    "\"\"\" 当期相同则计算上期method\n",
    "if len(signal_input_filter['Max_method']) > 3:       \n",
    "    signal_input_filter.sort_values(by=['model','start_date'],inplace=True) \n",
    "    signal_input_filter['Last_method'] = signal_input_filter['Max_method'].shift(1) \n",
    "    signal_output = signal_input_filter.nlargest(3,'Last_method',keep=\"first\")\n",
    "else:\n",
    "    signal_output = signal_input_filter.sort_values(by=\"start_date\").shift(1)\n",
    "\n",
    "    signal_input_filter.sort_values(by='start_date',inplace=True)\n",
    "    signal_input_filter['model_selected'] = signal_input_filter['model'].shift(1)\n",
    "    \n",
    "    signal_input_filter.to_excel('/Users/dylan/DataBase/signal_process/1.xlsx',index=False) \"\"\"\n"
   ]
  },
  {
   "cell_type": "code",
   "execution_count": 12,
   "metadata": {},
   "outputs": [
    {
     "data": {
      "text/plain": [
       "\" signal_output = pd.DataFrame()\\nfor i in signal_input_filter['start_date'].drop_duplicates(): \\n    column = signal_input_filter.loc[(i)].sample(1)\\n    signal_output = signal_output.append(column)\\n\\nsignal_output['model_selected'] = signal_output['model'].shift(1) \""
      ]
     },
     "execution_count": 12,
     "metadata": {},
     "output_type": "execute_result"
    }
   ],
   "source": [
    "# 选出当期Top3\n",
    "\n",
    "signal_input_filter = signal_input.groupby(by = 'start_date').apply(lambda x : x.nlargest(3, 'Max_method', keep = 'first'))\n",
    "\n",
    "# 在Top3中随机选择\n",
    "\"\"\" signal_output = pd.DataFrame()\n",
    "for i in signal_input_filter['start_date'].drop_duplicates(): \n",
    "    column = signal_input_filter.loc[(i)].sample(1)\n",
    "    signal_output = signal_output.append(column)\n",
    "\n",
    "signal_output['model_selected'] = signal_output['model'].shift(1) \"\"\"\n",
    "\n",
    "# 对Top3 进行处理 综合信号\n",
    "\n",
    "\n"
   ]
  },
  {
   "cell_type": "code",
   "execution_count": 42,
   "metadata": {},
   "outputs": [
    {
     "ename": "AttributeError",
     "evalue": "'str' object has no attribute 'indo'",
     "output_type": "error",
     "traceback": [
      "\u001b[1;31m---------------------------------------------------------------------------\u001b[0m",
      "\u001b[1;31mAttributeError\u001b[0m                            Traceback (most recent call last)",
      "\u001b[1;32m<ipython-input-42-67ef8d7183a3>\u001b[0m in \u001b[0;36m<module>\u001b[1;34m\u001b[0m\n\u001b[0;32m     25\u001b[0m \u001b[1;33m\u001b[0m\u001b[0m\n\u001b[0;32m     26\u001b[0m \u001b[0msignal_input_filter\u001b[0m\u001b[1;33m[\u001b[0m\u001b[1;34m'start_date'\u001b[0m\u001b[1;33m]\u001b[0m\u001b[1;33m.\u001b[0m\u001b[0mindex\u001b[0m\u001b[1;33m.\u001b[0m\u001b[0mdroplevel\u001b[0m\u001b[1;33m(\u001b[0m\u001b[1;36m0\u001b[0m\u001b[1;33m)\u001b[0m\u001b[1;33m\u001b[0m\u001b[1;33m\u001b[0m\u001b[0m\n\u001b[1;32m---> 27\u001b[1;33m \u001b[0msignal_input_filter\u001b[0m\u001b[1;33m[\u001b[0m\u001b[1;34m'start_date'\u001b[0m\u001b[1;33m]\u001b[0m\u001b[1;33m.\u001b[0m\u001b[0mdroplevel\u001b[0m\u001b[1;33m(\u001b[0m\u001b[1;36m0\u001b[0m\u001b[1;33m)\u001b[0m\u001b[1;33m.\u001b[0m\u001b[0miloc\u001b[0m\u001b[1;33m[\u001b[0m\u001b[1;36m1\u001b[0m\u001b[1;33m]\u001b[0m\u001b[1;33m.\u001b[0m\u001b[0mindo\u001b[0m\u001b[1;33m(\u001b[0m\u001b[1;33m)\u001b[0m\u001b[1;33m\u001b[0m\u001b[1;33m\u001b[0m\u001b[0m\n\u001b[0m",
      "\u001b[1;31mAttributeError\u001b[0m: 'str' object has no attribute 'indo'"
     ]
    }
   ],
   "source": [
    "# 归一化\r\n",
    "\"\"\" for m in signal_input_filter['start_date'].drop_duplicates():\r\n",
    "    for n in signal_input_filter['start_date'].drop_duplicates():\r\n",
    "    M1 = signal_input_filter.loc[i].rename(columns = {'annual_return_sp' : 'a','win_rate_sp' : 'b','pc_ratio_sp' : 'c'}, inplace = False)\r\n",
    "    M2 = signal_input_filter.loc[i].rename(columns = {'annual_return_sp_weight' : 'a','win_rate_sp_weight' : 'b','pc_ratio_sp_weight' : 'c'}, inplace = False)\r\n",
    "    signal_output = M1[['a','b','c']].dot(M2[['a','b','c']].T).T.iloc[0]\r\n",
    "    Max = signal_output.max()\r\n",
    "    Min = signal_output.min()\r\n",
    "    signal_output = (signal_output - Min)/(Max - Min)\r\n",
    "    signal_input['trade_date' > m and 'trade_date' < n ]['top_annual_return_sp-30','top_win_rate_sp-30','top_pc_ratio_sp-30']\r\n",
    " \"\"\"\r\n",
    "                                                                                        \r\n",
    "M1 = signal_input_filter.loc['2015-07-01'].rename(columns = {'annual_return_sp' : 'a','win_rate_sp' : 'b','pc_ratio_sp' : 'c'}, inplace = False)\r\n",
    "\r\n",
    "M2 = signal_input_filter.loc['2015-07-01'].rename(columns = {'annual_return_sp_weight' : 'a','win_rate_sp_weight' : 'b','pc_ratio_sp_weight' : 'c'}, inplace = False)\r\n",
    "\r\n",
    "signal_output = M1[['a','b','c']].dot(M2[['a','b','c']].T).T.iloc[0]\r\n",
    "Max = signal_output.max()\r\n",
    "Min = signal_output.min()\r\n",
    "signal_output = (signal_output - Min)/(Max - Min)\r\n",
    "\r\n",
    "for \r\n",
    "\"\"\" ['top_annual_return_sp-30','top_win_rate_sp-30','top_pc_ratio_sp-30'] \"\"\"\r\n"
   ]
  },
  {
   "cell_type": "markdown",
   "metadata": {},
   "source": []
  },
  {
   "cell_type": "code",
   "execution_count": 45,
   "metadata": {},
   "outputs": [
    {
     "data": {
      "text/plain": [
       "0      2015-01-05\n",
       "1      2015-01-06\n",
       "2      2015-01-07\n",
       "3      2015-01-08\n",
       "4      2015-01-09\n",
       "          ...    \n",
       "1457   2020-12-25\n",
       "1458   2020-12-28\n",
       "1459   2020-12-29\n",
       "1460   2020-12-30\n",
       "1461   2020-12-31\n",
       "Name: trade_date, Length: 1462, dtype: datetime64[ns]"
      ]
     },
     "execution_count": 45,
     "metadata": {},
     "output_type": "execute_result"
    }
   ],
   "source": [
    "pd.to_datetime(input_data['trade_date'])"
   ]
  },
  {
   "cell_type": "code",
   "execution_count": 77,
   "metadata": {},
   "outputs": [
    {
     "data": {
      "text/plain": [
       "start_date      \n",
       "2015-07-01  1004    False\n",
       "            1224    False\n",
       "            1624    False\n",
       "2015-08-12  1057    False\n",
       "            1058    False\n",
       "            1059    False\n",
       "2015-09-25  327     False\n",
       "            448     False\n",
       "            28      False\n",
       "2015-11-13  1281    False\n",
       "            1556    False\n",
       "            2354    False\n",
       "2015-12-25  1307    False\n",
       "            1773    False\n",
       "            1559    False\n",
       "2016-02-15  0       False\n",
       "            644     False\n",
       "            645     False\n",
       "2016-03-28  133     False\n",
       "            435     False\n",
       "            405     False\n",
       "2016-05-11  51      False\n",
       "            52      False\n",
       "            53      False\n",
       "2016-06-24  64      False\n",
       "            36      False\n",
       "            156     False\n",
       "2016-08-05  47      False\n",
       "            954     False\n",
       "            817     False\n",
       "2016-09-20  277     False\n",
       "            392     False\n",
       "            393     False\n",
       "2016-11-08  1459    False\n",
       "            1460    False\n",
       "            1461    False\n",
       "2016-12-20  50      False\n",
       "            184     False\n",
       "            309     False\n",
       "2017-02-08  63      False\n",
       "            402     False\n",
       "            1380    False\n",
       "2017-03-22  1696    False\n",
       "            1697    False\n",
       "            1698    False\n",
       "2017-05-08  3       False\n",
       "            731     False\n",
       "            1655    False\n",
       "2017-06-21  59      False\n",
       "            258     False\n",
       "            318     False\n",
       "2017-08-02  257     False\n",
       "            376     False\n",
       "            1087    False\n",
       "2017-09-13  17      False\n",
       "            25      False\n",
       "            33      False\n",
       "2017-11-01  973     False\n",
       "            974     False\n",
       "            975     False\n",
       "2017-12-13  24      False\n",
       "            227     False\n",
       "            168     False\n",
       "2018-01-25  1009    False\n",
       "            1010    False\n",
       "            1546    False\n",
       "2018-03-15  397     False\n",
       "            1183    False\n",
       "            748     False\n",
       "2018-05-02  22      False\n",
       "            23      False\n",
       "            26      False\n",
       "2018-06-13  27      False\n",
       "            361     False\n",
       "            1343    False\n",
       "2018-07-26  218     False\n",
       "            219     False\n",
       "            220     False\n",
       "2018-09-06  278     False\n",
       "            211     False\n",
       "            267     False\n",
       "2018-10-26  1047    False\n",
       "            1048    False\n",
       "            1156    False\n",
       "2018-12-07  1371    False\n",
       "            1254    False\n",
       "            1409    False\n",
       "2019-01-22  450     False\n",
       "            451     False\n",
       "            452     False\n",
       "2019-03-12  66      False\n",
       "            67      False\n",
       "            148     False\n",
       "2019-04-24  1       False\n",
       "            1940    False\n",
       "            1941    False\n",
       "2019-06-11  39      False\n",
       "            40      False\n",
       "            41      False\n",
       "2019-07-23  1974    False\n",
       "            1215    False\n",
       "            1628    False\n",
       "2019-09-03  2       False\n",
       "            31      False\n",
       "            237     False\n",
       "2019-10-23  32      False\n",
       "            266     False\n",
       "            581     False\n",
       "2019-12-04  4       False\n",
       "            5       False\n",
       "            6       False\n",
       "2020-01-16  647     False\n",
       "            648     False\n",
       "            649     False\n",
       "2020-03-06  1845    False\n",
       "            1846    False\n",
       "            2035    False\n",
       "2020-04-20  157     False\n",
       "            158     False\n",
       "            1429    False\n",
       "2020-06-04  29      False\n",
       "            232     False\n",
       "            248     False\n",
       "2020-07-20  939     False\n",
       "            734     False\n",
       "            1024    False\n",
       "2020-08-31  304     False\n",
       "            1014    False\n",
       "            898     False\n",
       "2020-10-20  958     False\n",
       "            959     False\n",
       "            960     False\n",
       "2020-12-01  44      False\n",
       "            45      False\n",
       "            141     False\n",
       "dtype: bool"
      ]
     },
     "execution_count": 77,
     "metadata": {},
     "output_type": "execute_result"
    }
   ],
   "source": [
    "\"\"\" pd.options.display.max_columns = None \r\n",
    "pd.options.display.max_rows = None\r\n",
    "test1 = pd.to_datetime(input_data['trade_date']).le(pd.to_datetime(signal_input_filter['start_date']),axis = 0,level = 1) \r\n",
    "\r\n",
    "test2 = pd.to_datetime(input_data['trade_date']).ge(pd.to_datetime(signal_input_filter['start_date']),axis = 0,level = 1)\r\n",
    "test1 & test2  \"\"\""
   ]
  },
  {
   "cell_type": "code",
   "execution_count": 10,
   "metadata": {},
   "outputs": [
    {
     "ename": "NameError",
     "evalue": "name 'signal_output' is not defined",
     "output_type": "error",
     "traceback": [
      "\u001b[1;31m---------------------------------------------------------------------------\u001b[0m",
      "\u001b[1;31mNameError\u001b[0m                                 Traceback (most recent call last)",
      "\u001b[1;32m<ipython-input-10-f75506376abc>\u001b[0m in \u001b[0;36m<module>\u001b[1;34m\u001b[0m\n\u001b[0;32m      2\u001b[0m \u001b[1;33m\u001b[0m\u001b[0m\n\u001b[0;32m      3\u001b[0m \u001b[1;33m\u001b[0m\u001b[0m\n\u001b[1;32m----> 4\u001b[1;33m \u001b[0mdf1\u001b[0m \u001b[1;33m=\u001b[0m \u001b[0msignal_output\u001b[0m\u001b[1;33m[\u001b[0m\u001b[1;33m[\u001b[0m\u001b[1;34m'annual_return_sp'\u001b[0m\u001b[1;33m,\u001b[0m\u001b[1;34m'win_rate_sp'\u001b[0m\u001b[1;33m,\u001b[0m\u001b[1;34m'pc_ratio_sp'\u001b[0m\u001b[1;33m]\u001b[0m\u001b[1;33m]\u001b[0m\u001b[1;33m\u001b[0m\u001b[1;33m\u001b[0m\u001b[0m\n\u001b[0m\u001b[0;32m      5\u001b[0m \u001b[0mdf3\u001b[0m \u001b[1;33m=\u001b[0m \u001b[0mpd\u001b[0m\u001b[1;33m.\u001b[0m\u001b[0mDataFrame\u001b[0m\u001b[1;33m(\u001b[0m\u001b[1;33m)\u001b[0m\u001b[1;33m\u001b[0m\u001b[1;33m\u001b[0m\u001b[0m\n\u001b[0;32m      6\u001b[0m \u001b[1;32mfor\u001b[0m \u001b[0mx\u001b[0m \u001b[1;32min\u001b[0m \u001b[0msignal_output\u001b[0m\u001b[1;33m[\u001b[0m\u001b[1;34m'model'\u001b[0m\u001b[1;33m]\u001b[0m\u001b[1;33m:\u001b[0m\u001b[1;33m\u001b[0m\u001b[1;33m\u001b[0m\u001b[0m\n",
      "\u001b[1;31mNameError\u001b[0m: name 'signal_output' is not defined"
     ]
    }
   ],
   "source": [
    "### 得到信号\n",
    "\n",
    "        \n",
    "df1 = signal_output[['annual_return_sp','win_rate_sp','pc_ratio_sp']]\n",
    "df3 = pd.DataFrame()\n",
    "for x in signal_output['model']:\n",
    "    df2 = signal_output[(x == signal_input['model'])]\n",
    "    for y in signal_output['start_date']: \n",
    "        new_column = df2[y == df2['start_date']]\n",
    "        df3 = df3.append(new_column)\n",
    "\n",
    "df4 = df3.drop_duplicates('start_date')\n",
    "df4.rename(columns = {'annual_return_sp_weight' : 'a','win_rate_sp_weight' : 'b','pc_ratio_sp_weight' : 'c'}, inplace = True)\n",
    "df1.rename(columns = {'annual_return_sp' : 'a','win_rate_sp' : 'b','pc_ratio_sp' : 'c'}, inplace = True)\n",
    "signal_output['signal'] = df1.dot(df4[['a','b','c']].T)\n",
    "\n",
    "Max = signal_output['signal'].max()\n",
    "Min = signal_output['signal'].min()\n",
    "signal_output['signal'] = (signal_output['signal'] - Min)/(Max - Min)\n",
    "\n",
    "/\n",
    "\n",
    "\n"
   ]
  },
  {
   "cell_type": "code",
   "execution_count": 11,
   "metadata": {},
   "outputs": [],
   "source": [
    "import pandas as pd\n",
    "signal_input = pd.read_excel('D:\\Github repo\\DataBase\\signal_process\\signal_result-30 copy.xlsx')"
   ]
  },
  {
   "cell_type": "code",
   "execution_count": 42,
   "metadata": {},
   "outputs": [],
   "source": [
    "import pandas as pd\n",
    "import numpy as np\n",
    "import seaborn as sns\n",
    "import matplotlib.pyplot as plt\n",
    "\n",
    "def cal_signal(methods,try_window,select_number) :\n",
    "    # methods 以list形式传入\n",
    "    \n",
    "    input_data = pd.read_excel(r'D:\\Github repo\\DataBase\\signal_process\\50-ETF-signalout.xlsx')\n",
    "    signal_input = pd.read_excel(r'\\Github repo\\DataBase\\signal_process\\signal_result-'+ str(try_window) +' copy.xlsx') \n",
    "    input_data.dropna(axis = 1, inplace= True)\n",
    "    # 加权处理，取四分位数进行分权\n",
    "    signal_input_quantile = signal_input[methods].quantile([0.25,0.5,0.75])\n",
    "    for col_name in methods:\n",
    "        def get_weight_group(x) :\n",
    "            # 加权处理函数\n",
    "            if x < signal_input_quantile[col_name].loc[0.25]: \n",
    "                return 1\n",
    "            elif signal_input_quantile[col_name].loc[0.25] < x  and  x < signal_input_quantile[col_name].loc[0.5]: \n",
    "                return 2 \n",
    "            elif signal_input_quantile[col_name].loc[0.5] < x and  x < signal_input_quantile[col_name].loc[0.75] : \n",
    "                return 3         \n",
    "            else : \n",
    "                return 4 \n",
    "        new_weighte_col_name = col_name + '_weight'\n",
    "        signal_input[new_weighte_col_name] = signal_input[col_name].map(get_weight_group)\n",
    "    signal_input['Max_method'] = signal_input[methods].sum(axis = 1)\n",
    "    signal_input['Max_method'].sort_values(ascending = False)\n",
    "    # 选出当期Top3\n",
    "    signal_input_filter = signal_input.groupby(by = 'start_date').apply(lambda x : x.nlargest(3, 'Max_method', keep = 'first'))\n",
    "    # 在Top3中进行随机选择\n",
    "    signal_output = pd.DataFrame()\n",
    "    for i in signal_input_filter['start_date'].drop_duplicates(): \n",
    "        column = signal_input_filter.loc[(i)].sample(select_number)\n",
    "        signal_output = signal_output.append(column)\n",
    "        signal_output['model_selected'] = signal_output['model'].shift(1)\n",
    "        \n",
    "    signal_output.to_excel(r'D:\\Github repo\\DataBase\\signal_process\\signal_output.xlsx')\n",
    "        \n",
    "    \n",
    "cal_signal(methods,try_window,select_number)"
   ]
  },
  {
   "cell_type": "code",
   "execution_count": null,
   "metadata": {},
   "outputs": [],
   "source": []
  }
 ],
 "metadata": {
  "interpreter": {
   "hash": "b3ba2566441a7c06988d0923437866b63cedc61552a5af99d1f4fb67d367b25f"
  },
  "kernelspec": {
   "display_name": "Python 3.8.8 64-bit (conda)",
   "name": "python3"
  },
  "language_info": {
   "codemirror_mode": {
    "name": "ipython",
    "version": 3
   },
   "file_extension": ".py",
   "mimetype": "text/x-python",
   "name": "python",
   "nbconvert_exporter": "python",
   "pygments_lexer": "ipython3",
   "version": "3.8.8"
  }
 },
 "nbformat": 4,
 "nbformat_minor": 5
}