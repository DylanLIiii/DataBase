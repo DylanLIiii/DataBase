{
 "cells": [
  {
   "cell_type": "code",
   "execution_count": 3,
   "id": "2da14dcb",
   "metadata": {},
   "outputs": [
    {
     "output_type": "execute_result",
     "data": {
      "text/plain": [
       "93      12\n",
       "519     12\n",
       "113     12\n",
       "114     12\n",
       "115     12\n",
       "        ..\n",
       "2379     3\n",
       "2380     3\n",
       "2381     3\n",
       "2382     3\n",
       "2144     3\n",
       "Name: Max_method, Length: 2654, dtype: int64"
      ]
     },
     "metadata": {},
     "execution_count": 3
    }
   ],
   "source": [
    "import pandas as pd\n",
    "import numpy as np\n",
    "import seaborn as sns\n",
    "import matplotlib.pyplot as plt\n",
    "\n",
    "\n",
    "input_data = pd.read_excel('/Users/dylan/DataBase/signal_process/50ETF-signalout copy.xlsx')\n",
    "signal_input = pd.read_excel('/Users/dylan/DataBase/signal_process/signal_result-30 copy.xlsx')\n",
    "\n",
    "input_data.dropna(axis = 1, inplace= True)\n",
    "\n",
    "# 加权选择\n",
    "\n",
    "signal_input_quantile = signal_input[['annual_return_sp','win_rate_sp','pc_ratio_sp']].quantile([0.25,0.5,0.75])\n",
    "for col_name in ['annual_return_sp','win_rate_sp','pc_ratio_sp']:\n",
    "    def get_weight_group(x) :\n",
    "        if x < signal_input_quantile[col_name].loc[0.25]: \n",
    "            return 1\n",
    "        elif signal_input_quantile[col_name].loc[0.25] < x  and  x < signal_input_quantile[col_name].loc[0.5]: \n",
    "            return 2 \n",
    "        elif signal_input_quantile[col_name].loc[0.5] < x and  x < signal_input_quantile[col_name].loc[0.75] : \n",
    "            return 3         \n",
    "        else : \n",
    "            return 4 \n",
    "    new_weighte_col_name = col_name + '_weight'\n",
    "    signal_input[new_weighte_col_name] = signal_input[col_name].map(get_weight_group)\n",
    "\n",
    "signal_input['Max_method'] = signal_input[['annual_return_sp_weight','win_rate_sp_weight','pc_ratio_sp_weight']].sum(axis = 1)\n",
    "\n",
    "signal_input['Max_method'].sort_values(ascending = False)\n"
   ]
  },
  {
   "source": [
    "\n",
    "\"\"\" 当期相同则计算上期method\n",
    "if len(signal_input_filter['Max_method']) > 3:       \n",
    "    signal_input_filter.sort_values(by=['model','start_date'],inplace=True) \n",
    "    signal_input_filter['Last_method'] = signal_input_filter['Max_method'].shift(1) \n",
    "    signal_output = signal_input_filter.nlargest(3,'Last_method',keep=\"first\")\n",
    "else:\n",
    "    signal_output = signal_input_filter.sort_values(by=\"start_date\").shift(1)\n",
    "\n",
    "    signal_input_filter.sort_values(by='start_date',inplace=True)\n",
    "    signal_input_filter['model_selected'] = signal_input_filter['model'].shift(1)\n",
    "    \n",
    "    signal_input_filter.to_excel('/Users/dylan/DataBase/signal_process/1.xlsx',index=False) \"\"\"\n"
   ],
   "cell_type": "code",
   "metadata": {},
   "execution_count": 4,
   "outputs": [
    {
     "output_type": "execute_result",
     "data": {
      "text/plain": [
       "' 当期相同则计算上期method\\nif len(signal_input_filter[\\'Max_method\\']) > 3:       \\n    signal_input_filter.sort_values(by=[\\'model\\',\\'start_date\\'],inplace=True) \\n    signal_input_filter[\\'Last_method\\'] = signal_input_filter[\\'Max_method\\'].shift(1) \\n    signal_output = signal_input_filter.nlargest(3,\\'Last_method\\',keep=\"first\")\\nelse:\\n    signal_output = signal_input_filter.sort_values(by=\"start_date\").shift(1)\\n\\n    signal_input_filter.sort_values(by=\\'start_date\\',inplace=True)\\n    signal_input_filter[\\'model_selected\\'] = signal_input_filter[\\'model\\'].shift(1)\\n    \\n    signal_input_filter.to_excel(\\'/Users/dylan/DataBase/signal_process/1.xlsx\\',index=False) '"
      ]
     },
     "metadata": {},
     "execution_count": 4
    }
   ]
  },
  {
   "source": [
    "# 选出当期Top3\n",
    "\n",
    "signal_input_filter = signal_input.groupby(by = 'start_date').apply(lambda x : x.nlargest(3, 'Max_method', keep = 'first'))\n",
    "\n",
    "# 在Top3中随机选择\n",
    "\"\"\" signal_output = pd.DataFrame()\n",
    "for i in signal_input_filter['start_date'].drop_duplicates(): \n",
    "    column = signal_input_filter.loc[(i)].sample(1)\n",
    "    signal_output = signal_output.append(column)\n",
    "\n",
    "signal_output['model_selected'] = signal_output['model'].shift(1) \"\"\"\n",
    "\n",
    "# 对Top3 进行处理 综合信号\n",
    "\n",
    "\n"
   ],
   "cell_type": "code",
   "metadata": {},
   "execution_count": 13,
   "outputs": [
    {
     "output_type": "execute_result",
     "data": {
      "text/plain": [
       "\" signal_output = pd.DataFrame()\\nfor i in signal_input_filter['start_date'].drop_duplicates(): \\n    column = signal_input_filter.loc[(i)].sample(1)\\n    signal_output = signal_output.append(column)\\n\\nsignal_output['model_selected'] = signal_output['model'].shift(1) \""
      ]
     },
     "metadata": {},
     "execution_count": 13
    }
   ]
  },
  {
   "cell_type": "code",
   "execution_count": null,
   "metadata": {},
   "outputs": [],
   "source": []
  },
  {
   "cell_type": "code",
   "execution_count": 11,
   "metadata": {},
   "outputs": [
    {
     "output_type": "error",
     "ename": "KeyError",
     "evalue": "False",
     "traceback": [
      "\u001b[0;31m---------------------------------------------------------------------------\u001b[0m",
      "\u001b[0;31mKeyError\u001b[0m                                  Traceback (most recent call last)",
      "\u001b[0;32m~/opt/anaconda3/lib/python3.8/site-packages/pandas/core/indexes/base.py\u001b[0m in \u001b[0;36mget_loc\u001b[0;34m(self, key, method, tolerance)\u001b[0m\n\u001b[1;32m   3079\u001b[0m             \u001b[0;32mtry\u001b[0m\u001b[0;34m:\u001b[0m\u001b[0;34m\u001b[0m\u001b[0;34m\u001b[0m\u001b[0m\n\u001b[0;32m-> 3080\u001b[0;31m                 \u001b[0;32mreturn\u001b[0m \u001b[0mself\u001b[0m\u001b[0;34m.\u001b[0m\u001b[0m_engine\u001b[0m\u001b[0;34m.\u001b[0m\u001b[0mget_loc\u001b[0m\u001b[0;34m(\u001b[0m\u001b[0mcasted_key\u001b[0m\u001b[0;34m)\u001b[0m\u001b[0;34m\u001b[0m\u001b[0;34m\u001b[0m\u001b[0m\n\u001b[0m\u001b[1;32m   3081\u001b[0m             \u001b[0;32mexcept\u001b[0m \u001b[0mKeyError\u001b[0m \u001b[0;32mas\u001b[0m \u001b[0merr\u001b[0m\u001b[0;34m:\u001b[0m\u001b[0;34m\u001b[0m\u001b[0;34m\u001b[0m\u001b[0m\n",
      "\u001b[0;32mpandas/_libs/index.pyx\u001b[0m in \u001b[0;36mpandas._libs.index.IndexEngine.get_loc\u001b[0;34m()\u001b[0m\n",
      "\u001b[0;32mpandas/_libs/index.pyx\u001b[0m in \u001b[0;36mpandas._libs.index.IndexEngine.get_loc\u001b[0;34m()\u001b[0m\n",
      "\u001b[0;32mpandas/_libs/hashtable_class_helper.pxi\u001b[0m in \u001b[0;36mpandas._libs.hashtable.PyObjectHashTable.get_item\u001b[0;34m()\u001b[0m\n",
      "\u001b[0;32mpandas/_libs/hashtable_class_helper.pxi\u001b[0m in \u001b[0;36mpandas._libs.hashtable.PyObjectHashTable.get_item\u001b[0;34m()\u001b[0m\n",
      "\u001b[0;31mKeyError\u001b[0m: False",
      "\nThe above exception was the direct cause of the following exception:\n",
      "\u001b[0;31mKeyError\u001b[0m                                  Traceback (most recent call last)",
      "\u001b[0;32m<ipython-input-11-aba21462d062>\u001b[0m in \u001b[0;36m<module>\u001b[0;34m\u001b[0m\n\u001b[1;32m     20\u001b[0m \u001b[0msignal_output\u001b[0m \u001b[0;34m=\u001b[0m \u001b[0;34m(\u001b[0m\u001b[0msignal_output\u001b[0m \u001b[0;34m-\u001b[0m \u001b[0mMin\u001b[0m\u001b[0;34m)\u001b[0m\u001b[0;34m/\u001b[0m\u001b[0;34m(\u001b[0m\u001b[0mMax\u001b[0m \u001b[0;34m-\u001b[0m \u001b[0mMin\u001b[0m\u001b[0;34m)\u001b[0m\u001b[0;34m\u001b[0m\u001b[0;34m\u001b[0m\u001b[0m\n\u001b[1;32m     21\u001b[0m \u001b[0;34m\u001b[0m\u001b[0m\n\u001b[0;32m---> 22\u001b[0;31m \u001b[0msignal_input\u001b[0m\u001b[0;34m[\u001b[0m\u001b[0;34m(\u001b[0m\u001b[0;34m'trade_date'\u001b[0m \u001b[0;34m>\u001b[0m \u001b[0;34m'2015-07-01'\u001b[0m\u001b[0;34m)\u001b[0m \u001b[0;32mand\u001b[0m \u001b[0;34m(\u001b[0m\u001b[0;34m'trade_date'\u001b[0m \u001b[0;34m<\u001b[0m \u001b[0;34m'2015-08-11'\u001b[0m\u001b[0;34m)\u001b[0m\u001b[0;34m]\u001b[0m\u001b[0;34m\u001b[0m\u001b[0;34m\u001b[0m\u001b[0m\n\u001b[0m\u001b[1;32m     23\u001b[0m \u001b[0;34m\"\"\" ['top_annual_return_sp-30','top_win_rate_sp-30','top_pc_ratio_sp-30'] \"\"\"\u001b[0m\u001b[0;34m\u001b[0m\u001b[0;34m\u001b[0m\u001b[0m\n",
      "\u001b[0;32m~/opt/anaconda3/lib/python3.8/site-packages/pandas/core/frame.py\u001b[0m in \u001b[0;36m__getitem__\u001b[0;34m(self, key)\u001b[0m\n\u001b[1;32m   3022\u001b[0m             \u001b[0;32mif\u001b[0m \u001b[0mself\u001b[0m\u001b[0;34m.\u001b[0m\u001b[0mcolumns\u001b[0m\u001b[0;34m.\u001b[0m\u001b[0mnlevels\u001b[0m \u001b[0;34m>\u001b[0m \u001b[0;36m1\u001b[0m\u001b[0;34m:\u001b[0m\u001b[0;34m\u001b[0m\u001b[0;34m\u001b[0m\u001b[0m\n\u001b[1;32m   3023\u001b[0m                 \u001b[0;32mreturn\u001b[0m \u001b[0mself\u001b[0m\u001b[0;34m.\u001b[0m\u001b[0m_getitem_multilevel\u001b[0m\u001b[0;34m(\u001b[0m\u001b[0mkey\u001b[0m\u001b[0;34m)\u001b[0m\u001b[0;34m\u001b[0m\u001b[0;34m\u001b[0m\u001b[0m\n\u001b[0;32m-> 3024\u001b[0;31m             \u001b[0mindexer\u001b[0m \u001b[0;34m=\u001b[0m \u001b[0mself\u001b[0m\u001b[0;34m.\u001b[0m\u001b[0mcolumns\u001b[0m\u001b[0;34m.\u001b[0m\u001b[0mget_loc\u001b[0m\u001b[0;34m(\u001b[0m\u001b[0mkey\u001b[0m\u001b[0;34m)\u001b[0m\u001b[0;34m\u001b[0m\u001b[0;34m\u001b[0m\u001b[0m\n\u001b[0m\u001b[1;32m   3025\u001b[0m             \u001b[0;32mif\u001b[0m \u001b[0mis_integer\u001b[0m\u001b[0;34m(\u001b[0m\u001b[0mindexer\u001b[0m\u001b[0;34m)\u001b[0m\u001b[0;34m:\u001b[0m\u001b[0;34m\u001b[0m\u001b[0;34m\u001b[0m\u001b[0m\n\u001b[1;32m   3026\u001b[0m                 \u001b[0mindexer\u001b[0m \u001b[0;34m=\u001b[0m \u001b[0;34m[\u001b[0m\u001b[0mindexer\u001b[0m\u001b[0;34m]\u001b[0m\u001b[0;34m\u001b[0m\u001b[0;34m\u001b[0m\u001b[0m\n",
      "\u001b[0;32m~/opt/anaconda3/lib/python3.8/site-packages/pandas/core/indexes/base.py\u001b[0m in \u001b[0;36mget_loc\u001b[0;34m(self, key, method, tolerance)\u001b[0m\n\u001b[1;32m   3080\u001b[0m                 \u001b[0;32mreturn\u001b[0m \u001b[0mself\u001b[0m\u001b[0;34m.\u001b[0m\u001b[0m_engine\u001b[0m\u001b[0;34m.\u001b[0m\u001b[0mget_loc\u001b[0m\u001b[0;34m(\u001b[0m\u001b[0mcasted_key\u001b[0m\u001b[0;34m)\u001b[0m\u001b[0;34m\u001b[0m\u001b[0;34m\u001b[0m\u001b[0m\n\u001b[1;32m   3081\u001b[0m             \u001b[0;32mexcept\u001b[0m \u001b[0mKeyError\u001b[0m \u001b[0;32mas\u001b[0m \u001b[0merr\u001b[0m\u001b[0;34m:\u001b[0m\u001b[0;34m\u001b[0m\u001b[0;34m\u001b[0m\u001b[0m\n\u001b[0;32m-> 3082\u001b[0;31m                 \u001b[0;32mraise\u001b[0m \u001b[0mKeyError\u001b[0m\u001b[0;34m(\u001b[0m\u001b[0mkey\u001b[0m\u001b[0;34m)\u001b[0m \u001b[0;32mfrom\u001b[0m \u001b[0merr\u001b[0m\u001b[0;34m\u001b[0m\u001b[0;34m\u001b[0m\u001b[0m\n\u001b[0m\u001b[1;32m   3083\u001b[0m \u001b[0;34m\u001b[0m\u001b[0m\n\u001b[1;32m   3084\u001b[0m         \u001b[0;32mif\u001b[0m \u001b[0mtolerance\u001b[0m \u001b[0;32mis\u001b[0m \u001b[0;32mnot\u001b[0m \u001b[0;32mNone\u001b[0m\u001b[0;34m:\u001b[0m\u001b[0;34m\u001b[0m\u001b[0;34m\u001b[0m\u001b[0m\n",
      "\u001b[0;31mKeyError\u001b[0m: False"
     ]
    }
   ],
   "source": [
    "# 归一化\n",
    "\"\"\" for m in signal_input_filter['start_date'].drop_duplicates():\n",
    "    for n in signal_input_filter['start_date'].drop_duplicates():\n",
    "    M1 = signal_input_filter.loc[i].rename(columns = {'annual_return_sp' : 'a','win_rate_sp' : 'b','pc_ratio_sp' : 'c'}, inplace = False)\n",
    "    M2 = signal_input_filter.loc[i].rename(columns = {'annual_return_sp_weight' : 'a','win_rate_sp_weight' : 'b','pc_ratio_sp_weight' : 'c'}, inplace = False)\n",
    "    signal_output = M1[['a','b','c']].dot(M2[['a','b','c']].T).T.iloc[0]\n",
    "    Max = signal_output.max()\n",
    "    Min = signal_output.min()\n",
    "    signal_output = (signal_output - Min)/(Max - Min)\n",
    "    signal_input['trade_date' > m and 'trade_date' < n ]['top_annual_return_sp-30','top_win_rate_sp-30','top_pc_ratio_sp-30']\n",
    " \"\"\"\n",
    "                                                                                        \n",
    "M1 = signal_input_filter.loc['2015-07-01'].rename(columns = {'annual_return_sp' : 'a','win_rate_sp' : 'b','pc_ratio_sp' : 'c'}, inplace = False)\n",
    "\n",
    "M2 = signal_input_filter.loc['2015-07-01'].rename(columns = {'annual_return_sp_weight' : 'a','win_rate_sp_weight' : 'b','pc_ratio_sp_weight' : 'c'}, inplace = False)\n",
    "\n",
    "signal_output = M1[['a','b','c']].dot(M2[['a','b','c']].T).T.iloc[0]\n",
    "Max = signal_output.max()\n",
    "Min = signal_output.min()\n",
    "signal_output = (signal_output - Min)/(Max - Min)\n",
    "\n",
    "signal_input[('trade_date' > '2015-07-01') and ('trade_date' < '2015-08-11')]\n",
    "\"\"\" ['top_annual_return_sp-30','top_win_rate_sp-30','top_pc_ratio_sp-30'] \"\"\"\n"
   ]
  },
  {
   "cell_type": "code",
   "execution_count": null,
   "metadata": {},
   "outputs": [],
   "source": [
    "### 得到信号\n",
    "\n",
    "        \n",
    "df1 = signal_output[['annual_return_sp','win_rate_sp','pc_ratio_sp']]\n",
    "df3 = pd.DataFrame()\n",
    "for x in signal_output['model']:\n",
    "    df2 = signal_output[(x == signal_input['model'])]\n",
    "    for y in signal_output['start_date']: \n",
    "        new_column = df2[y == df2['start_date']]\n",
    "        df3 = df3.append(new_column)\n",
    "\n",
    "df4 = df3.drop_duplicates('start_date')\n",
    "df4.rename(columns = {'annual_return_sp_weight' : 'a','win_rate_sp_weight' : 'b','pc_ratio_sp_weight' : 'c'}, inplace = True)\n",
    "df1.rename(columns = {'annual_return_sp' : 'a','win_rate_sp' : 'b','pc_ratio_sp' : 'c'}, inplace = True)\n",
    "signal_output['signal'] = df1.dot(df4[['a','b','c']].T)\n",
    "\n",
    "Max = signal_output['signal'].max()\n",
    "Min = signal_output['signal'].min()\n",
    "signal_output['signal'] = (signal_output['signal'] - Min)/(Max - Min)\n",
    "\n",
    "/"
   ]
  }
 ],
 "metadata": {
  "kernelspec": {
   "name": "python3",
   "display_name": "Python 3.8.8 64-bit ('base': conda)"
  },
  "language_info": {
   "codemirror_mode": {
    "name": "ipython",
    "version": 3
   },
   "file_extension": ".py",
   "mimetype": "text/x-python",
   "name": "python",
   "nbconvert_exporter": "python",
   "pygments_lexer": "ipython3",
   "version": "3.8.8"
  },
  "interpreter": {
   "hash": "6e41dd01fe67b3b87d0ee4f890a1dc8013ce26741ca91638f461e94c1bd39bff"
  }
 },
 "nbformat": 4,
 "nbformat_minor": 5
}